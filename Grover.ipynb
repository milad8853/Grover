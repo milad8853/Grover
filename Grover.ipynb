{
 "cells": [
  {
   "cell_type": "markdown",
   "metadata": {},
   "source": [
    "<br>\n",
    "<img src=\"https://i.ibb.co/Lty5dh7/grover-Logo.png\" width=\"140\" height=\"50\" align=\"left\"><br>\n",
    "<br>\n",
    "<br>\n",
    "\n",
    "# <font color=black><center>Take-home Assignment</center>\n",
    "**Data Source:** https://rebrickable.com/downloads/<br>\n",
    "**Contact Person:** sent by ina@grover.com on 21th April 2021, 09:00 <br>\n",
    "\n",
    "**Data Prepration:**<br>\n",
    "0-A: Extracting data from AWS db [Jump to Answer](#0-A)<br>\n",
    "0-B: Profiling, Exploratory Analysis, Cleansing (T) [Jump to Answer](#0-B)<br>\n",
    "0-C: Loading data into BigQuery/ Data warehousing (T) [Jump to Answer](#0-C)<br>    \n",
    "    \n",
    "**Question1:** (I interpret and transform your first question as follows. I hope that's what you wanted)<br> \n",
    "Prepare 3 tables and graphs under the following conditions with each making up at least 4 tables:<br>\n",
    "1-A: Table with sets.year [Jump to Answer](#1-A)<br>\n",
    "2-B: Table with a hierachy at themes table [Jump to Answer](#1-B)<br>\n",
    "1-C: User-defined table [Jump to Answer](#1-C)<br>\n",
    "<br>\n",
    "**Question2:**<br>\n",
    "Assume you need your dashboards from the first question to be updated automatically (on a daily basis vs real time). Please propose the design of the ETL process and the exact steps, tools, and expected implementation timeline.\n",
    "[Jump to Answer](#2)<br>\n",
    "    \n",
    "**Question3:**<br>\n",
    "Please describe the concept of Database Entity.Please suggest 3 core entities for Grover Business Model and show some examples of their properties. Illustrate these examples with operational KPIs and briefly describe why those are important as well as shown in the formulas for the underlying calculation.\n",
    "[Jump to Answer](#3)<br>"
   ]
  },
  {
   "cell_type": "code",
   "execution_count": 129,
   "metadata": {},
   "outputs": [],
   "source": [
    "# Reading necessary libraries\n",
    "import pandas as pd\t\t\t\t\t\t\t\t\t\t\t\t# data manipulation\n",
    "import matplotlib.pyplot as plt\t\t\t\t\t\t\t\t\t# graphs\n",
    "import seaborn as sns\t\t\t\t\t\t\t\t\t\t\t# graphs\n",
    "import numpy as np\t\t\t\t\t\t\t\t\t\t\t\t# graphs\n",
    "from matplotlib import cm\t\t\t\t\t\t\t\t\t\t# graphs\n",
    "from matplotlib.pyplot import figure\t\t\t\t\t\t\t# graphs\n",
    "import sys\t\t\t\t\t\t\t\t\t\t\t\t\t\t# system functions\n",
    "import warnings\t\t\t\t\t\t\t\t\t\t\t\t\t# indicating warnings\n",
    "warnings.filterwarnings('ignore')\t\t\t\t\t\t\t\t# ignore by default\n",
    "from matplotlib.ticker import LinearLocator\t\t\t\t\t\t# graphs\n",
    "pd.set_option('display.max_columns', None)\t\t\t\t\t\t# show all columns\n",
    "pd.set_option('display.max_rows', None)\t\t\t\t\t\t\t# show all rows\n",
    "np.set_printoptions(threshold=sys.maxsize)\t\t\t\t\t\t# show arrays full\n",
    "pd.set_option(\"display.max_colwidth\", -1)\t\t\t\t\t\t# show a complete text in a cell\n",
    "pd.set_option('display.float_format', lambda x: '%.2f' % x)\t\t# precision decimals pd\n",
    "np.set_printoptions(precision=3)\t\t\t\t\t\t\t\t# precision decimals np\n",
    "from xlsxwriter.workbook import Workbook\t\t\t\t\t\t# CSV writing\n",
    "import csv\t\t\t\t\t\t\t\t\t\t\t\t\t\t# CSV writing\n",
    "import pymysql\t\t\t\t\t\t\t\t\t\t\t\t\t# MySql connection\n",
    "import psycopg2\t\t\t\t\t\t\t\t\t\t\t\t\t# PostgreSQL database adapter\n",
    "import datetime\t\t\t\t\t\t\t\t\t\t\t\t\t# time conversions\n",
    "import random\t\t\t\t\t\t\t\t\t\t\t\t\t# randomchoice\n",
    "import math as math\t\t\t\t\t\t\t\t\t\t\t\t# maths\n",
    "import glob\t\t\t\t\t\t\t\t\t\t\t\t\t\t# paths and files management\n",
    "import matplotlib.image as mpimg\t\t\t\t\t\t\t\t# matplot image\n",
    "import pandasql as ps\t\t\t\t\t\t\t\t\t\t\t# connect to Pandas' SQLite\n",
    "import cufflinks as cf\t\t\t\t\t\t\t\t\t\t\t# Cufflink\n",
    "from google.cloud import bigquery\t\t\t\t\t\t\t\t# upload to BigQuery\n",
    "import google.datalab.bigquery as bq\t\t\t\t\t\t\t# Pandas to BigQuery"
   ]
  },
  {
   "cell_type": "markdown",
   "metadata": {},
   "source": [
    "<a id='0-A'></a>\n",
    "### <font color=blue><center>0-A: Extracting data from AWS db (E)</center> ###\n",
    "I uploaded the 12 CSV Lego files in my AWS account to make the prject more intresting.<br>\n",
    "First, i will download the data to start the project <br>\n",
    "<br>\n",
    "***Note that***; the purpose of loading and unloading data from different sources or validating data is not to make analysis complicated and unappealing, but to show my standard approach of treating a large dataset."
   ]
  },
  {
   "cell_type": "code",
   "execution_count": 201,
   "metadata": {
    "scrolled": true
   },
   "outputs": [
    {
     "name": "stdout",
     "output_type": "stream",
     "text": [
      "Table colors has been downloaded and generated successfully.\n",
      "Table elements has been downloaded and generated successfully.\n",
      "Table inventories has been downloaded and generated successfully.\n",
      "Table inventory_minifigs has been downloaded and generated successfully.\n",
      "Table inventory_parts has been downloaded and generated successfully.\n",
      "Table inventory_sets has been downloaded and generated successfully.\n",
      "Table minifigs has been downloaded and generated successfully.\n",
      "Table part_categories has been downloaded and generated successfully.\n",
      "Table part_relationships has been downloaded and generated successfully.\n",
      "Table parts has been downloaded and generated successfully.\n",
      "Table sets has been downloaded and generated successfully.\n",
      "Table themes has been downloaded and generated successfully.\n"
     ]
    }
   ],
   "source": [
    "# Opening a connection \n",
    "conn_info = {\"host\": \"database-1.ccosz5b5stit.us-east-1.rds.amazonaws.com\", \"port\": 3306, \"user\": \"admin\",\"password\": \"xxx\"\n",
    "             ,\"database\": \"grover\", \"client_flag\": CLIENT.MULTI_STATEMENTS,}\n",
    "cnxn = pymysql.connect(**conn_info)\n",
    "\n",
    "# connecting to the cursor\n",
    "crsr = cnxn.cursor()\n",
    "\n",
    "# Specifying the query / Query description:\n",
    "# The idea is to generate 12 tables of this project fully automated when each time the cursor gets executed \n",
    "# Function 'PREPARE' make the variable '@s' ready by concatinating a query inside of it. The inside query gets its data from\n",
    "# schema, then by the means of ROW_NUMBER and @rn, each time this query executes, @s gets a new row.\n",
    "sql=\"\"\"\\\n",
    "SET @rn = 0;\n",
    "SET @s = CONCAT('SELECT * FROM ', (\n",
    "\tWITH table_rn AS(\n",
    "\t\tSELECT table_name, ROW_NUMBER() OVER(ORDER BY table_name) rnk, @rn\n",
    "\t\tFROM information_schema.TABLES, (SELECT @rn = 0) a, (SELECT @rn := @rn + 1 ) b\n",
    "\t\tWHERE table_schema = 'grover'\n",
    "\t)\n",
    "\tSELECT table_name\n",
    "\tFROM table_rn\n",
    "\tWHERE rnk = @rn)\n",
    " ); \n",
    "PREPARE stmt1 FROM @s; \n",
    "EXECUTE stmt1; \n",
    "DEALLOCATE PREPARE stmt1; \n",
    "\"\"\"\n",
    "\n",
    "# table_names saves all 12 tables for 'for-loop' and creating correspondant CSVs\n",
    "total_tables=\"SHOW TABLES\"\n",
    "cursor.execute(total_tables)\n",
    "item=cursor.fetchall()\n",
    "table_names = [i[0] for i in item]\n",
    "\n",
    "# iterate the main query\n",
    "for table_names in table_names:\n",
    "    crsr.execute(sql)\n",
    "    # 4 times = 4 separate sql statements (the abobe sql = (...)) to execute\n",
    "    num_tries = 4\n",
    "    # in case, it doesn't return anything after some attempts, it'll throw an error\n",
    "    result = None\n",
    "    # This iterates the 4 number of attempts to execute each statement separately\n",
    "    for i in range(num_tries):\n",
    "        result = crsr.fetchall()\n",
    "        if result:\n",
    "            break\n",
    "        crsr.nextset()\n",
    "    \n",
    "    if not result:\n",
    "        print(f\"(no result found after {num_tries} attempts)\")\n",
    "    # Writing crsr in column_names and then open a relevant CSV file with the same name, and finally save it\n",
    "    else:\n",
    "        column_names = [i[0] for i in crsr.description]\n",
    "        fp = open(table_names, 'w')\n",
    "        myFile = csv.writer(fp, lineterminator = '\\n')\n",
    "        myFile.writerow(column_names)   \n",
    "        myFile.writerows(rows)\n",
    "        fp.close()\n",
    "        # If everything goes well, show me the result\n",
    "        print('Table', table_names, 'has been downloaded and generated successfully.')"
   ]
  },
  {
   "cell_type": "markdown",
   "metadata": {},
   "source": [
    "<a id='0-B'></a>\n",
    "### <font color=blue><center>0-B: Profiling, Exploratory Analysis, Cleansing (T)</center> ###\n",
    "Even though the data is quite clean and ready to analyse, in order to show a sample of my work as well more or less answer your second question, I will perform transforming the data as follows.<br>\n"
   ]
  },
  {
   "cell_type": "code",
   "execution_count": 2,
   "metadata": {
    "scrolled": true
   },
   "outputs": [],
   "source": [
    "# Reading all the files from the project folder, alternative: using glob library\n",
    "colors = pd.read_csv('colors.csv')\n",
    "elements = pd.read_csv('elements.csv')\n",
    "inventories = pd.read_csv('inventories.csv')\n",
    "inventory_minifigs = pd.read_csv('inventory_minifigs.csv')\n",
    "inventory_parts = pd.read_csv('inventory_parts.csv')\n",
    "inventory_sets = pd.read_csv('inventory_sets.csv')\n",
    "minifigs = pd.read_csv('minifigs.csv')\n",
    "part_categories = pd.read_csv('part_categories.csv')\n",
    "part_relationships = pd.read_csv('part_relationships.csv')\n",
    "parts = pd.read_csv('parts.csv')\n",
    "sets = pd.read_csv('sets.csv')\n",
    "themes = pd.read_csv('themes.csv')"
   ]
  },
  {
   "cell_type": "markdown",
   "metadata": {},
   "source": [
    "**Metadata:**<br>\n",
    "<img src=\"https://rebrickable.com/static/img/diagrams/downloads_schema_v3.png\" width=\"1000\" height=\"1000\" align=\"left\"><br>\n",
    "<br>\n"
   ]
  },
  {
   "cell_type": "code",
   "execution_count": 331,
   "metadata": {},
   "outputs": [
    {
     "data": {
      "text/html": [
       "<div>\n",
       "<style scoped>\n",
       "    .dataframe tbody tr th:only-of-type {\n",
       "        vertical-align: middle;\n",
       "    }\n",
       "\n",
       "    .dataframe tbody tr th {\n",
       "        vertical-align: top;\n",
       "    }\n",
       "\n",
       "    .dataframe thead th {\n",
       "        text-align: right;\n",
       "    }\n",
       "</style>\n",
       "<table border=\"1\" class=\"dataframe\">\n",
       "  <thead>\n",
       "    <tr style=\"text-align: right;\">\n",
       "      <th></th>\n",
       "      <th>NullTotal</th>\n",
       "      <th>Null%</th>\n",
       "      <th>DupTotal</th>\n",
       "      <th>Dup%</th>\n",
       "    </tr>\n",
       "  </thead>\n",
       "  <tbody>\n",
       "    <tr>\n",
       "      <th>is_spare</th>\n",
       "      <td>0</td>\n",
       "      <td>0.00</td>\n",
       "      <td>903295.00</td>\n",
       "      <td>100.00</td>\n",
       "    </tr>\n",
       "    <tr>\n",
       "      <th>quantity</th>\n",
       "      <td>0</td>\n",
       "      <td>0.00</td>\n",
       "      <td>902975.00</td>\n",
       "      <td>99.96</td>\n",
       "    </tr>\n",
       "    <tr>\n",
       "      <th>color_id</th>\n",
       "      <td>0</td>\n",
       "      <td>0.00</td>\n",
       "      <td>903123.00</td>\n",
       "      <td>99.98</td>\n",
       "    </tr>\n",
       "    <tr>\n",
       "      <th>part_num</th>\n",
       "      <td>0</td>\n",
       "      <td>0.00</td>\n",
       "      <td>864587.00</td>\n",
       "      <td>95.72</td>\n",
       "    </tr>\n",
       "    <tr>\n",
       "      <th>inventory_id</th>\n",
       "      <td>0</td>\n",
       "      <td>0.00</td>\n",
       "      <td>876910.00</td>\n",
       "      <td>97.08</td>\n",
       "    </tr>\n",
       "  </tbody>\n",
       "</table>\n",
       "</div>"
      ],
      "text/plain": [
       "              NullTotal  Null%  DupTotal   Dup%\n",
       "is_spare      0         0.00   903295.00 100.00\n",
       "quantity      0         0.00   902975.00 99.96 \n",
       "color_id      0         0.00   903123.00 99.98 \n",
       "part_num      0         0.00   864587.00 95.72 \n",
       "inventory_id  0         0.00   876910.00 97.08 "
      ]
     },
     "metadata": {},
     "output_type": "display_data"
    }
   ],
   "source": [
    "# Show null values and duplicates in all columns. It uses isnull function for finding nulls and duplicated function for dups.\n",
    "def nulldup(df):\n",
    "    total = df.isnull().sum().sort_values(ascending=False)\n",
    "    percent = round((df.isnull().sum()/df.isnull().count()).sort_values(ascending=False)*100, 3)\n",
    "    missing_data = pd.concat([total, percent], axis=1, keys=['NullTotal', 'Null%'])\n",
    "    for dup in missing_data.index:\n",
    "        missing_data.at[dup,'DupTotal'] = df.duplicated(subset=[dup]).sum()\n",
    "        missing_data.at[dup,'Dup%'] = round((df.duplicated(subset=[dup]).sum())/df.shape[0]*100,3)\n",
    "    display(missing_data)\n",
    "nulldup(inventory_parts)"
   ]
  },
  {
   "cell_type": "code",
   "execution_count": 105,
   "metadata": {
    "scrolled": true
   },
   "outputs": [
    {
     "name": "stdout",
     "output_type": "stream",
     "text": [
      "inventory_id :\n"
     ]
    },
    {
     "data": {
      "text/plain": [
       "42856    1554\n",
       "94873    1309\n",
       "85198    1309\n",
       "73052    1126\n",
       "19403    1022\n",
       "         ... \n",
       "85573    1   \n",
       "24240    1   \n",
       "5483     1   \n",
       "21       1   \n",
       "84751    1   \n",
       "Name: inventory_id, Length: 26387, dtype: int64"
      ]
     },
     "metadata": {},
     "output_type": "display_data"
    },
    {
     "name": "stdout",
     "output_type": "stream",
     "text": [
      "___________________________________ \n",
      "\n",
      "part_num :\n"
     ]
    },
    {
     "data": {
      "text/plain": [
       "6141            24416\n",
       "3023            16463\n",
       "3024            11768\n",
       "54200           11680\n",
       "3004            11558\n",
       "                ...  \n",
       "95201pr0004     1    \n",
       "11344pr0010     1    \n",
       "970c00pr9964    1    \n",
       "29050pr0007     1    \n",
       "004231          1    \n",
       "Name: part_num, Length: 38710, dtype: int64"
      ]
     },
     "metadata": {},
     "output_type": "display_data"
    },
    {
     "name": "stdout",
     "output_type": "stream",
     "text": [
      "___________________________________ \n",
      "\n",
      "color_id :\n"
     ]
    },
    {
     "data": {
      "text/plain": [
       "0       164966\n",
       "15      101511\n",
       "71      93417 \n",
       "4       72669 \n",
       "72      70546 \n",
       "        ...   \n",
       "1012    1     \n",
       "1027    1     \n",
       "1016    1     \n",
       "1035    1     \n",
       "1024    1     \n",
       "Name: color_id, Length: 174, dtype: int64"
      ]
     },
     "metadata": {},
     "output_type": "display_data"
    },
    {
     "name": "stdout",
     "output_type": "stream",
     "text": [
      "___________________________________ \n",
      "\n",
      "quantity :\n"
     ]
    },
    {
     "data": {
      "text/plain": [
       "1      391349\n",
       "2      241507\n",
       "4      93239 \n",
       "3      47603 \n",
       "6      30075 \n",
       "       ...   \n",
       "129    1     \n",
       "134    1     \n",
       "138    1     \n",
       "145    1     \n",
       "511    1     \n",
       "Name: quantity, Length: 322, dtype: int64"
      ]
     },
     "metadata": {},
     "output_type": "display_data"
    },
    {
     "name": "stdout",
     "output_type": "stream",
     "text": [
      "___________________________________ \n",
      "\n",
      "is_spare :\n"
     ]
    },
    {
     "data": {
      "text/plain": [
       "f    850485\n",
       "t    52812 \n",
       "Name: is_spare, dtype: int64"
      ]
     },
     "metadata": {},
     "output_type": "display_data"
    },
    {
     "name": "stdout",
     "output_type": "stream",
     "text": [
      "___________________________________ \n",
      "\n"
     ]
    }
   ],
   "source": [
    "# Count Values to see what we have in each column.It's a simple count_values along with a 'for' iteration.\n",
    "def count(df):\n",
    "    pd.set_option('display.max_rows', 10)\n",
    "    for column in df.columns:\n",
    "        print(column,':')\n",
    "        display(df[column].value_counts(dropna=False))\n",
    "        print('___________________________________','\\n')\n",
    "count(inventory_parts)"
   ]
  },
  {
   "cell_type": "code",
   "execution_count": 325,
   "metadata": {
    "scrolled": true
   },
   "outputs": [
    {
     "data": {
      "image/png": "[encoded data removed]",
      "text/plain": [
       "<Figure size 1008x360 with 1 Axes>"
      ]
     },
     "metadata": {
      "needs_background": "light"
     },
     "output_type": "display_data"
    },
    {
     "data": {
      "image/png": "[encoded data removed]",
      "text/plain": [
       "<Figure size 1008x360 with 1 Axes>"
      ]
     },
     "metadata": {
      "needs_background": "light"
     },
     "output_type": "display_data"
    },
    {
     "data": {
      "image/png": "[encoded data removed]",
      "text/plain": [
       "<Figure size 1008x360 with 1 Axes>"
      ]
     },
     "metadata": {
      "needs_background": "light"
     },
     "output_type": "display_data"
    }
   ],
   "source": [
    "# Finding outliers using boxplot.\n",
    "\n",
    "inventory_minifigs['quantity'].plot(kind='box', vert=False, figsize=(14,5));\n",
    "plt.title('quantity - inventory_minifigs')\n",
    "plt.show()\n",
    "\n",
    "inventory_parts['quantity'].plot(kind='box', vert=False, figsize=(14,5));\n",
    "plt.title('quantity - inventory_parts')\n",
    "plt.show()\n",
    "\n",
    "inventory_sets['quantity'].plot(kind='box', vert=False, figsize=(14,5));\n",
    "plt.title('quantity - inventory_sets')\n",
    "plt.show()\n",
    "\n",
    "# We do have some outliers, particularly in minifigs dataset. But, for the time being I will not take action on that."
   ]
  },
  {
   "cell_type": "code",
   "execution_count": 10,
   "metadata": {},
   "outputs": [],
   "source": [
    "                    #///////////////////////////////////////////////////////////////////////#\n",
    "                    #////                        All datasetes                          ////#\n",
    "                    #///////////////////////////////////////////////////////////////////////#\n",
    "# 1- Duplicates:\n",
    "# It's not possible for the same product with the same version to generate a new id in 'inventories'\n",
    "if inventories.duplicated(subset=['set_num','version']).sum() > 0:\n",
    "    inventories.drop_duplicates(subset=['set_num','version'], keep='first')\n",
    "\n",
    "# 2- Null Values:\n",
    "# Like other datasets when there is no data (for example code color) we might replace it with -1, though not necessary\n",
    "themes['parent_id'] = themes['parent_id'].fillna(-1)"
   ]
  },
  {
   "cell_type": "markdown",
   "metadata": {},
   "source": [
    "<a id='0-C'></a>\n",
    "### <font color=blue><center>0-C: Loading data into BigQuery/ Data warehousing (T)</center> ###\n",
    "Now, the data is ready so I'll save the cleaned tables directly from Jupyter to BigQuery and then take some actions in my GCP account if needs be. <br>\n"
   ]
  },
  {
   "cell_type": "code",
   "execution_count": 134,
   "metadata": {},
   "outputs": [],
   "source": [
    "# Credential: $env:GOOGLE_APPLICATION_CREDENTIALS=\"C:\\Users\\milad\\Desktop\\Data Science\\Demo Projects\\21- Grover\\clark-643191304-9a9d84679ccd.json\"\n",
    "\n",
    "# Create file_path containing all the CSVs to write in BigQuery\n",
    "file_path = ['colors.csv', 'elements.csv', 'inventories.csv', 'inventory_minifigs.csv', 'inventory_parts.csv',\\\n",
    "             'inventory_sets.csv', 'minifigs.csv', 'part_categories.csv', 'part_relationships.csv', 'parts.csv',\\\n",
    "            'sets.csv', 'themes.csv']\n",
    "\n",
    "# for-loop to write all the files\n",
    "for my_file in file_path:\n",
    "    \n",
    "    # define a BigQuery dataset    \n",
    "    bigquery_dataset_name = ('clark-643191304', 'milad_db')\n",
    "    dataset = bq.Dataset(name = bigquery_dataset_name)\n",
    "\n",
    "    # define a BigQuery table    \n",
    "    bigquery_table_name = ('clark-643191304', 'milad_db', my_file)\n",
    "    table = bq.Table(bigquery_table_name)\n",
    "\n",
    "    # Create or overwrite the existing table if it exists\n",
    "    table_schema = bq.Schema.from_data(dataFrame_name)\n",
    "    table.create(schema = table_schema, overwrite = True)\n",
    "\n",
    "    # Write the DataFrame to a BigQuery table\n",
    "    table.insert(dataFrame_name)"
   ]
  },
  {
   "cell_type": "markdown",
   "metadata": {},
   "source": [
    "<a id='1-A'></a>\n",
    "### <font color=blue><center>1-A: Table with sets.year</center> ###"
   ]
  },
  {
   "cell_type": "code",
   "execution_count": 74,
   "metadata": {
    "scrolled": true
   },
   "outputs": [
    {
     "name": "stderr",
     "output_type": "stream",
     "text": [
      "Downloading: 100%|███████████████████████████████████████████████████████████████████| 71/71 [00:00<00:00, 96.64rows/s]\n"
     ]
    },
    {
     "data": {
      "text/html": [
       "<div>\n",
       "<style scoped>\n",
       "    .dataframe tbody tr th:only-of-type {\n",
       "        vertical-align: middle;\n",
       "    }\n",
       "\n",
       "    .dataframe tbody tr th {\n",
       "        vertical-align: top;\n",
       "    }\n",
       "\n",
       "    .dataframe thead th {\n",
       "        text-align: right;\n",
       "    }\n",
       "</style>\n",
       "<table border=\"1\" class=\"dataframe\">\n",
       "  <thead>\n",
       "    <tr style=\"text-align: right;\">\n",
       "      <th></th>\n",
       "      <th>year_sets_released</th>\n",
       "      <th>child_friendly_Lego_parts</th>\n",
       "    </tr>\n",
       "  </thead>\n",
       "  <tbody>\n",
       "    <tr>\n",
       "      <th>0</th>\n",
       "      <td>2020</td>\n",
       "      <td>695</td>\n",
       "    </tr>\n",
       "    <tr>\n",
       "      <th>1</th>\n",
       "      <td>2016</td>\n",
       "      <td>687</td>\n",
       "    </tr>\n",
       "    <tr>\n",
       "      <th>2</th>\n",
       "      <td>2019</td>\n",
       "      <td>673</td>\n",
       "    </tr>\n",
       "    <tr>\n",
       "      <th>3</th>\n",
       "      <td>2018</td>\n",
       "      <td>669</td>\n",
       "    </tr>\n",
       "    <tr>\n",
       "      <th>4</th>\n",
       "      <td>2015</td>\n",
       "      <td>653</td>\n",
       "    </tr>\n",
       "    <tr>\n",
       "      <th>5</th>\n",
       "      <td>2017</td>\n",
       "      <td>653</td>\n",
       "    </tr>\n",
       "    <tr>\n",
       "      <th>6</th>\n",
       "      <td>2014</td>\n",
       "      <td>551</td>\n",
       "    </tr>\n",
       "    <tr>\n",
       "      <th>7</th>\n",
       "      <td>2013</td>\n",
       "      <td>521</td>\n",
       "    </tr>\n",
       "    <tr>\n",
       "      <th>8</th>\n",
       "      <td>2012</td>\n",
       "      <td>514</td>\n",
       "    </tr>\n",
       "    <tr>\n",
       "      <th>9</th>\n",
       "      <td>2002</td>\n",
       "      <td>456</td>\n",
       "    </tr>\n",
       "    <tr>\n",
       "      <th>10</th>\n",
       "      <td>2011</td>\n",
       "      <td>445</td>\n",
       "    </tr>\n",
       "    <tr>\n",
       "      <th>11</th>\n",
       "      <td>2003</td>\n",
       "      <td>399</td>\n",
       "    </tr>\n",
       "    <tr>\n",
       "      <th>12</th>\n",
       "      <td>2010</td>\n",
       "      <td>397</td>\n",
       "    </tr>\n",
       "    <tr>\n",
       "      <th>13</th>\n",
       "      <td>2009</td>\n",
       "      <td>395</td>\n",
       "    </tr>\n",
       "    <tr>\n",
       "      <th>14</th>\n",
       "      <td>2004</td>\n",
       "      <td>373</td>\n",
       "    </tr>\n",
       "    <tr>\n",
       "      <th>15</th>\n",
       "      <td>1998</td>\n",
       "      <td>361</td>\n",
       "    </tr>\n",
       "    <tr>\n",
       "      <th>16</th>\n",
       "      <td>2001</td>\n",
       "      <td>351</td>\n",
       "    </tr>\n",
       "    <tr>\n",
       "      <th>17</th>\n",
       "      <td>2000</td>\n",
       "      <td>334</td>\n",
       "    </tr>\n",
       "    <tr>\n",
       "      <th>18</th>\n",
       "      <td>1999</td>\n",
       "      <td>332</td>\n",
       "    </tr>\n",
       "    <tr>\n",
       "      <th>19</th>\n",
       "      <td>2005</td>\n",
       "      <td>326</td>\n",
       "    </tr>\n",
       "    <tr>\n",
       "      <th>20</th>\n",
       "      <td>2008</td>\n",
       "      <td>305</td>\n",
       "    </tr>\n",
       "    <tr>\n",
       "      <th>21</th>\n",
       "      <td>2021</td>\n",
       "      <td>302</td>\n",
       "    </tr>\n",
       "    <tr>\n",
       "      <th>22</th>\n",
       "      <td>2006</td>\n",
       "      <td>295</td>\n",
       "    </tr>\n",
       "    <tr>\n",
       "      <th>23</th>\n",
       "      <td>2007</td>\n",
       "      <td>277</td>\n",
       "    </tr>\n",
       "    <tr>\n",
       "      <th>24</th>\n",
       "      <td>1997</td>\n",
       "      <td>246</td>\n",
       "    </tr>\n",
       "    <tr>\n",
       "      <th>25</th>\n",
       "      <td>1987</td>\n",
       "      <td>230</td>\n",
       "    </tr>\n",
       "    <tr>\n",
       "      <th>26</th>\n",
       "      <td>1996</td>\n",
       "      <td>193</td>\n",
       "    </tr>\n",
       "    <tr>\n",
       "      <th>27</th>\n",
       "      <td>1995</td>\n",
       "      <td>175</td>\n",
       "    </tr>\n",
       "    <tr>\n",
       "      <th>28</th>\n",
       "      <td>1985</td>\n",
       "      <td>161</td>\n",
       "    </tr>\n",
       "    <tr>\n",
       "      <th>29</th>\n",
       "      <td>1994</td>\n",
       "      <td>155</td>\n",
       "    </tr>\n",
       "    <tr>\n",
       "      <th>30</th>\n",
       "      <td>1986</td>\n",
       "      <td>154</td>\n",
       "    </tr>\n",
       "    <tr>\n",
       "      <th>31</th>\n",
       "      <td>1991</td>\n",
       "      <td>145</td>\n",
       "    </tr>\n",
       "    <tr>\n",
       "      <th>32</th>\n",
       "      <td>1993</td>\n",
       "      <td>132</td>\n",
       "    </tr>\n",
       "    <tr>\n",
       "      <th>33</th>\n",
       "      <td>1989</td>\n",
       "      <td>130</td>\n",
       "    </tr>\n",
       "    <tr>\n",
       "      <th>34</th>\n",
       "      <td>1992</td>\n",
       "      <td>130</td>\n",
       "    </tr>\n",
       "    <tr>\n",
       "      <th>35</th>\n",
       "      <td>1990</td>\n",
       "      <td>107</td>\n",
       "    </tr>\n",
       "    <tr>\n",
       "      <th>36</th>\n",
       "      <td>1966</td>\n",
       "      <td>106</td>\n",
       "    </tr>\n",
       "    <tr>\n",
       "      <th>37</th>\n",
       "      <td>1980</td>\n",
       "      <td>102</td>\n",
       "    </tr>\n",
       "    <tr>\n",
       "      <th>38</th>\n",
       "      <td>1977</td>\n",
       "      <td>100</td>\n",
       "    </tr>\n",
       "    <tr>\n",
       "      <th>39</th>\n",
       "      <td>1979</td>\n",
       "      <td>92</td>\n",
       "    </tr>\n",
       "    <tr>\n",
       "      <th>40</th>\n",
       "      <td>1984</td>\n",
       "      <td>90</td>\n",
       "    </tr>\n",
       "    <tr>\n",
       "      <th>41</th>\n",
       "      <td>1982</td>\n",
       "      <td>84</td>\n",
       "    </tr>\n",
       "    <tr>\n",
       "      <th>42</th>\n",
       "      <td>1981</td>\n",
       "      <td>82</td>\n",
       "    </tr>\n",
       "    <tr>\n",
       "      <th>43</th>\n",
       "      <td>1969</td>\n",
       "      <td>80</td>\n",
       "    </tr>\n",
       "    <tr>\n",
       "      <th>44</th>\n",
       "      <td>1988</td>\n",
       "      <td>79</td>\n",
       "    </tr>\n",
       "    <tr>\n",
       "      <th>45</th>\n",
       "      <td>1978</td>\n",
       "      <td>77</td>\n",
       "    </tr>\n",
       "    <tr>\n",
       "      <th>46</th>\n",
       "      <td>1976</td>\n",
       "      <td>74</td>\n",
       "    </tr>\n",
       "    <tr>\n",
       "      <th>47</th>\n",
       "      <td>1983</td>\n",
       "      <td>71</td>\n",
       "    </tr>\n",
       "    <tr>\n",
       "      <th>48</th>\n",
       "      <td>1973</td>\n",
       "      <td>68</td>\n",
       "    </tr>\n",
       "    <tr>\n",
       "      <th>49</th>\n",
       "      <td>1971</td>\n",
       "      <td>50</td>\n",
       "    </tr>\n",
       "    <tr>\n",
       "      <th>50</th>\n",
       "      <td>1958</td>\n",
       "      <td>47</td>\n",
       "    </tr>\n",
       "    <tr>\n",
       "      <th>51</th>\n",
       "      <td>1974</td>\n",
       "      <td>40</td>\n",
       "    </tr>\n",
       "    <tr>\n",
       "      <th>52</th>\n",
       "      <td>1972</td>\n",
       "      <td>39</td>\n",
       "    </tr>\n",
       "    <tr>\n",
       "      <th>53</th>\n",
       "      <td>1975</td>\n",
       "      <td>39</td>\n",
       "    </tr>\n",
       "    <tr>\n",
       "      <th>54</th>\n",
       "      <td>1968</td>\n",
       "      <td>38</td>\n",
       "    </tr>\n",
       "    <tr>\n",
       "      <th>55</th>\n",
       "      <td>1970</td>\n",
       "      <td>37</td>\n",
       "    </tr>\n",
       "    <tr>\n",
       "      <th>56</th>\n",
       "      <td>1955</td>\n",
       "      <td>27</td>\n",
       "    </tr>\n",
       "    <tr>\n",
       "      <th>57</th>\n",
       "      <td>1967</td>\n",
       "      <td>25</td>\n",
       "    </tr>\n",
       "    <tr>\n",
       "      <th>58</th>\n",
       "      <td>1961</td>\n",
       "      <td>21</td>\n",
       "    </tr>\n",
       "    <tr>\n",
       "      <th>59</th>\n",
       "      <td>1957</td>\n",
       "      <td>18</td>\n",
       "    </tr>\n",
       "    <tr>\n",
       "      <th>60</th>\n",
       "      <td>1964</td>\n",
       "      <td>16</td>\n",
       "    </tr>\n",
       "    <tr>\n",
       "      <th>61</th>\n",
       "      <td>1954</td>\n",
       "      <td>14</td>\n",
       "    </tr>\n",
       "    <tr>\n",
       "      <th>62</th>\n",
       "      <td>1965</td>\n",
       "      <td>13</td>\n",
       "    </tr>\n",
       "    <tr>\n",
       "      <th>63</th>\n",
       "      <td>1956</td>\n",
       "      <td>12</td>\n",
       "    </tr>\n",
       "    <tr>\n",
       "      <th>64</th>\n",
       "      <td>1962</td>\n",
       "      <td>12</td>\n",
       "    </tr>\n",
       "    <tr>\n",
       "      <th>65</th>\n",
       "      <td>1963</td>\n",
       "      <td>12</td>\n",
       "    </tr>\n",
       "    <tr>\n",
       "      <th>66</th>\n",
       "      <td>1950</td>\n",
       "      <td>6</td>\n",
       "    </tr>\n",
       "    <tr>\n",
       "      <th>67</th>\n",
       "      <td>1949</td>\n",
       "      <td>5</td>\n",
       "    </tr>\n",
       "    <tr>\n",
       "      <th>68</th>\n",
       "      <td>1959</td>\n",
       "      <td>4</td>\n",
       "    </tr>\n",
       "    <tr>\n",
       "      <th>69</th>\n",
       "      <td>1953</td>\n",
       "      <td>3</td>\n",
       "    </tr>\n",
       "    <tr>\n",
       "      <th>70</th>\n",
       "      <td>1960</td>\n",
       "      <td>2</td>\n",
       "    </tr>\n",
       "  </tbody>\n",
       "</table>\n",
       "</div>"
      ],
      "text/plain": [
       "    year_sets_released  child_friendly_Lego_parts\n",
       "0   2020                695                      \n",
       "1   2016                687                      \n",
       "2   2019                673                      \n",
       "3   2018                669                      \n",
       "4   2015                653                      \n",
       "5   2017                653                      \n",
       "6   2014                551                      \n",
       "7   2013                521                      \n",
       "8   2012                514                      \n",
       "9   2002                456                      \n",
       "10  2011                445                      \n",
       "11  2003                399                      \n",
       "12  2010                397                      \n",
       "13  2009                395                      \n",
       "14  2004                373                      \n",
       "15  1998                361                      \n",
       "16  2001                351                      \n",
       "17  2000                334                      \n",
       "18  1999                332                      \n",
       "19  2005                326                      \n",
       "20  2008                305                      \n",
       "21  2021                302                      \n",
       "22  2006                295                      \n",
       "23  2007                277                      \n",
       "24  1997                246                      \n",
       "25  1987                230                      \n",
       "26  1996                193                      \n",
       "27  1995                175                      \n",
       "28  1985                161                      \n",
       "29  1994                155                      \n",
       "30  1986                154                      \n",
       "31  1991                145                      \n",
       "32  1993                132                      \n",
       "33  1989                130                      \n",
       "34  1992                130                      \n",
       "35  1990                107                      \n",
       "36  1966                106                      \n",
       "37  1980                102                      \n",
       "38  1977                100                      \n",
       "39  1979                92                       \n",
       "40  1984                90                       \n",
       "41  1982                84                       \n",
       "42  1981                82                       \n",
       "43  1969                80                       \n",
       "44  1988                79                       \n",
       "45  1978                77                       \n",
       "46  1976                74                       \n",
       "47  1983                71                       \n",
       "48  1973                68                       \n",
       "49  1971                50                       \n",
       "50  1958                47                       \n",
       "51  1974                40                       \n",
       "52  1972                39                       \n",
       "53  1975                39                       \n",
       "54  1968                38                       \n",
       "55  1970                37                       \n",
       "56  1955                27                       \n",
       "57  1967                25                       \n",
       "58  1961                21                       \n",
       "59  1957                18                       \n",
       "60  1964                16                       \n",
       "61  1954                14                       \n",
       "62  1965                13                       \n",
       "63  1956                12                       \n",
       "64  1962                12                       \n",
       "65  1963                12                       \n",
       "66  1950                6                        \n",
       "67  1949                5                        \n",
       "68  1959                4                        \n",
       "69  1953                3                        \n",
       "70  1960                2                        "
      ]
     },
     "execution_count": 74,
     "metadata": {},
     "output_type": "execute_result"
    }
   ],
   "source": [
    "# It will generate total number of parts produced based on the year which Lego sets were first released as long as the material\n",
    "# was not 'metal.' To make it more intresting, I consider 'not made by metal' as child-friendly Lego Parts.\n",
    "# Description: the main SELECT finds a relation (EXISTS) between set_num of current SELECT and set_num of CTE. \n",
    "query_q1 = \"\"\"\n",
    "\n",
    "CREATE TABLE `clark-643191304.milad_db.query_q1` AS\n",
    "WITH base_table AS (\n",
    "\tSELECT i.set_num, p.part_material\n",
    "    FROM `clark-643191304.milad_db.inventories` i, `clark-643191304.milad_db.inventory_parts` ip, `clark-643191304.milad_db.parts` p\n",
    "    WHERE i.id = ip.inventory_id AND ip.part_num = p.part_num\n",
    ")\n",
    "SELECT s1.year year_sets_released, COUNT(s1.year) child_friendly_Lego_parts\n",
    "FROM `clark-643191304.milad_db.sets` s1\n",
    "WHERE EXISTS (\n",
    "\tSELECT *\n",
    "    FROM base_table b\n",
    "    WHERE s1.set_num = b.set_num AND b.part_material NOT IN ('Metal')\n",
    ")\n",
    "GROUP BY 1\n",
    "ORDER BY 2 DESC\n",
    ";\n",
    "\n",
    "\"\"\"\n",
    "dfresult1 = pd.read_gbq(query_q1, project_id='clark-643191304', dialect='standard')\n",
    "dfresult1"
   ]
  },
  {
   "cell_type": "code",
   "execution_count": 83,
   "metadata": {
    "scrolled": true
   },
   "outputs": [
    {
     "data": {
      "text/html": [
       "        <script type=\"text/javascript\">\n",
       "        window.PlotlyConfig = {MathJaxConfig: 'local'};\n",
       "        if (window.MathJax) {MathJax.Hub.Config({SVG: {font: \"STIX-Web\"}});}\n",
       "        if (typeof require !== 'undefined') {\n",
       "        require.undef(\"plotly\");\n",
       "        requirejs.config({\n",
       "            paths: {\n",
       "                'plotly': ['https://cdn.plot.ly/plotly-latest.min']\n",
       "            }\n",
       "        });\n",
       "        require(['plotly'], function(Plotly) {\n",
       "            window._Plotly = Plotly;\n",
       "        });\n",
       "        }\n",
       "        </script>\n",
       "        "
      ]
     },
     "metadata": {},
     "output_type": "display_data"
    },
    {
     "data": {
      "application/vnd.plotly.v1+json": {
       "config": {
        "linkText": "Export to plot.ly",
        "plotlyServerURL": "https://plot.ly",
        "showLink": true
       },
       "data": [
        {
         "line": {
          "color": "rgba(255, 153, 51, 1.0)",
          "dash": "solid",
          "shape": "linear",
          "width": 1.3
         },
         "marker": {
          "size": 12,
          "symbol": "circle"
         },
         "mode": "markers",
         "name": "child_friendly_Lego_parts",
         "text": "",
         "type": "scatter",
         "x": [
          "2020-01-01",
          "2016-01-01",
          "2019-01-01",
          "2018-01-01",
          "2015-01-01",
          "2017-01-01",
          "2014-01-01",
          "2013-01-01",
          "2012-01-01",
          "2002-01-01",
          "2011-01-01",
          "2003-01-01",
          "2010-01-01",
          "2009-01-01",
          "2004-01-01",
          "1998-01-01",
          "2001-01-01",
          "2000-01-01",
          "1999-01-01",
          "2005-01-01",
          "2008-01-01",
          "2021-01-01",
          "2006-01-01",
          "2007-01-01",
          "1997-01-01",
          "1987-01-01",
          "1996-01-01",
          "1995-01-01",
          "1985-01-01",
          "1994-01-01",
          "1986-01-01",
          "1991-01-01",
          "1993-01-01",
          "1989-01-01",
          "1992-01-01",
          "1990-01-01",
          "1966-01-01",
          "1980-01-01",
          "1977-01-01",
          "1979-01-01",
          "1984-01-01",
          "1982-01-01",
          "1981-01-01",
          "1969-01-01",
          "1988-01-01",
          "1978-01-01",
          "1976-01-01",
          "1983-01-01",
          "1973-01-01",
          "1971-01-01",
          "1958-01-01",
          "1974-01-01",
          "1972-01-01",
          "1975-01-01",
          "1968-01-01",
          "1970-01-01",
          "1955-01-01",
          "1967-01-01",
          "1961-01-01",
          "1957-01-01",
          "1964-01-01",
          "1954-01-01",
          "1965-01-01",
          "1956-01-01",
          "1962-01-01",
          "1963-01-01",
          "1950-01-01",
          "1949-01-01",
          "1959-01-01",
          "1953-01-01",
          "1960-01-01"
         ],
         "y": [
          695,
          687,
          673,
          669,
          653,
          653,
          551,
          521,
          514,
          456,
          445,
          399,
          397,
          395,
          373,
          361,
          351,
          334,
          332,
          326,
          305,
          302,
          295,
          277,
          246,
          230,
          193,
          175,
          161,
          155,
          154,
          145,
          132,
          130,
          130,
          107,
          106,
          102,
          100,
          92,
          90,
          84,
          82,
          80,
          79,
          77,
          74,
          71,
          68,
          50,
          47,
          40,
          39,
          39,
          38,
          37,
          27,
          25,
          21,
          18,
          16,
          14,
          13,
          12,
          12,
          12,
          6,
          5,
          4,
          3,
          2
         ]
        }
       ],
       "layout": {
        "legend": {
         "bgcolor": "#F5F6F9",
         "font": {
          "color": "#4D5663"
         }
        },
        "paper_bgcolor": "#F5F6F9",
        "plot_bgcolor": "#F5F6F9",
        "template": {
         "data": {
          "bar": [
           {
            "error_x": {
             "color": "#2a3f5f"
            },
            "error_y": {
             "color": "#2a3f5f"
            },
            "marker": {
             "line": {
              "color": "#E5ECF6",
              "width": 0.5
             }
            },
            "type": "bar"
           }
          ],
          "barpolar": [
           {
            "marker": {
             "line": {
              "color": "#E5ECF6",
              "width": 0.5
             }
            },
            "type": "barpolar"
           }
          ],
          "carpet": [
           {
            "aaxis": {
             "endlinecolor": "#2a3f5f",
             "gridcolor": "white",
             "linecolor": "white",
             "minorgridcolor": "white",
             "startlinecolor": "#2a3f5f"
            },
            "baxis": {
             "endlinecolor": "#2a3f5f",
             "gridcolor": "white",
             "linecolor": "white",
             "minorgridcolor": "white",
             "startlinecolor": "#2a3f5f"
            },
            "type": "carpet"
           }
          ],
          "choropleth": [
           {
            "colorbar": {
             "outlinewidth": 0,
             "ticks": ""
            },
            "type": "choropleth"
           }
          ],
          "contour": [
           {
            "colorbar": {
             "outlinewidth": 0,
             "ticks": ""
            },
            "colorscale": [
             [
              0,
              "#0d0887"
             ],
             [
              0.1111111111111111,
              "#46039f"
             ],
             [
              0.2222222222222222,
              "#7201a8"
             ],
             [
              0.3333333333333333,
              "#9c179e"
             ],
             [
              0.4444444444444444,
              "#bd3786"
             ],
             [
              0.5555555555555556,
              "#d8576b"
             ],
             [
              0.6666666666666666,
              "#ed7953"
             ],
             [
              0.7777777777777778,
              "#fb9f3a"
             ],
             [
              0.8888888888888888,
              "#fdca26"
             ],
             [
              1,
              "#f0f921"
             ]
            ],
            "type": "contour"
           }
          ],
          "contourcarpet": [
           {
            "colorbar": {
             "outlinewidth": 0,
             "ticks": ""
            },
            "type": "contourcarpet"
           }
          ],
          "heatmap": [
           {
            "colorbar": {
             "outlinewidth": 0,
             "ticks": ""
            },
            "colorscale": [
             [
              0,
              "#0d0887"
             ],
             [
              0.1111111111111111,
              "#46039f"
             ],
             [
              0.2222222222222222,
              "#7201a8"
             ],
             [
              0.3333333333333333,
              "#9c179e"
             ],
             [
              0.4444444444444444,
              "#bd3786"
             ],
             [
              0.5555555555555556,
              "#d8576b"
             ],
             [
              0.6666666666666666,
              "#ed7953"
             ],
             [
              0.7777777777777778,
              "#fb9f3a"
             ],
             [
              0.8888888888888888,
              "#fdca26"
             ],
             [
              1,
              "#f0f921"
             ]
            ],
            "type": "heatmap"
           }
          ],
          "heatmapgl": [
           {
            "colorbar": {
             "outlinewidth": 0,
             "ticks": ""
            },
            "colorscale": [
             [
              0,
              "#0d0887"
             ],
             [
              0.1111111111111111,
              "#46039f"
             ],
             [
              0.2222222222222222,
              "#7201a8"
             ],
             [
              0.3333333333333333,
              "#9c179e"
             ],
             [
              0.4444444444444444,
              "#bd3786"
             ],
             [
              0.5555555555555556,
              "#d8576b"
             ],
             [
              0.6666666666666666,
              "#ed7953"
             ],
             [
              0.7777777777777778,
              "#fb9f3a"
             ],
             [
              0.8888888888888888,
              "#fdca26"
             ],
             [
              1,
              "#f0f921"
             ]
            ],
            "type": "heatmapgl"
           }
          ],
          "histogram": [
           {
            "marker": {
             "colorbar": {
              "outlinewidth": 0,
              "ticks": ""
             }
            },
            "type": "histogram"
           }
          ],
          "histogram2d": [
           {
            "colorbar": {
             "outlinewidth": 0,
             "ticks": ""
            },
            "colorscale": [
             [
              0,
              "#0d0887"
             ],
             [
              0.1111111111111111,
              "#46039f"
             ],
             [
              0.2222222222222222,
              "#7201a8"
             ],
             [
              0.3333333333333333,
              "#9c179e"
             ],
             [
              0.4444444444444444,
              "#bd3786"
             ],
             [
              0.5555555555555556,
              "#d8576b"
             ],
             [
              0.6666666666666666,
              "#ed7953"
             ],
             [
              0.7777777777777778,
              "#fb9f3a"
             ],
             [
              0.8888888888888888,
              "#fdca26"
             ],
             [
              1,
              "#f0f921"
             ]
            ],
            "type": "histogram2d"
           }
          ],
          "histogram2dcontour": [
           {
            "colorbar": {
             "outlinewidth": 0,
             "ticks": ""
            },
            "colorscale": [
             [
              0,
              "#0d0887"
             ],
             [
              0.1111111111111111,
              "#46039f"
             ],
             [
              0.2222222222222222,
              "#7201a8"
             ],
             [
              0.3333333333333333,
              "#9c179e"
             ],
             [
              0.4444444444444444,
              "#bd3786"
             ],
             [
              0.5555555555555556,
              "#d8576b"
             ],
             [
              0.6666666666666666,
              "#ed7953"
             ],
             [
              0.7777777777777778,
              "#fb9f3a"
             ],
             [
              0.8888888888888888,
              "#fdca26"
             ],
             [
              1,
              "#f0f921"
             ]
            ],
            "type": "histogram2dcontour"
           }
          ],
          "mesh3d": [
           {
            "colorbar": {
             "outlinewidth": 0,
             "ticks": ""
            },
            "type": "mesh3d"
           }
          ],
          "parcoords": [
           {
            "line": {
             "colorbar": {
              "outlinewidth": 0,
              "ticks": ""
             }
            },
            "type": "parcoords"
           }
          ],
          "pie": [
           {
            "automargin": true,
            "type": "pie"
           }
          ],
          "scatter": [
           {
            "marker": {
             "colorbar": {
              "outlinewidth": 0,
              "ticks": ""
             }
            },
            "type": "scatter"
           }
          ],
          "scatter3d": [
           {
            "line": {
             "colorbar": {
              "outlinewidth": 0,
              "ticks": ""
             }
            },
            "marker": {
             "colorbar": {
              "outlinewidth": 0,
              "ticks": ""
             }
            },
            "type": "scatter3d"
           }
          ],
          "scattercarpet": [
           {
            "marker": {
             "colorbar": {
              "outlinewidth": 0,
              "ticks": ""
             }
            },
            "type": "scattercarpet"
           }
          ],
          "scattergeo": [
           {
            "marker": {
             "colorbar": {
              "outlinewidth": 0,
              "ticks": ""
             }
            },
            "type": "scattergeo"
           }
          ],
          "scattergl": [
           {
            "marker": {
             "colorbar": {
              "outlinewidth": 0,
              "ticks": ""
             }
            },
            "type": "scattergl"
           }
          ],
          "scattermapbox": [
           {
            "marker": {
             "colorbar": {
              "outlinewidth": 0,
              "ticks": ""
             }
            },
            "type": "scattermapbox"
           }
          ],
          "scatterpolar": [
           {
            "marker": {
             "colorbar": {
              "outlinewidth": 0,
              "ticks": ""
             }
            },
            "type": "scatterpolar"
           }
          ],
          "scatterpolargl": [
           {
            "marker": {
             "colorbar": {
              "outlinewidth": 0,
              "ticks": ""
             }
            },
            "type": "scatterpolargl"
           }
          ],
          "scatterternary": [
           {
            "marker": {
             "colorbar": {
              "outlinewidth": 0,
              "ticks": ""
             }
            },
            "type": "scatterternary"
           }
          ],
          "surface": [
           {
            "colorbar": {
             "outlinewidth": 0,
             "ticks": ""
            },
            "colorscale": [
             [
              0,
              "#0d0887"
             ],
             [
              0.1111111111111111,
              "#46039f"
             ],
             [
              0.2222222222222222,
              "#7201a8"
             ],
             [
              0.3333333333333333,
              "#9c179e"
             ],
             [
              0.4444444444444444,
              "#bd3786"
             ],
             [
              0.5555555555555556,
              "#d8576b"
             ],
             [
              0.6666666666666666,
              "#ed7953"
             ],
             [
              0.7777777777777778,
              "#fb9f3a"
             ],
             [
              0.8888888888888888,
              "#fdca26"
             ],
             [
              1,
              "#f0f921"
             ]
            ],
            "type": "surface"
           }
          ],
          "table": [
           {
            "cells": {
             "fill": {
              "color": "#EBF0F8"
             },
             "line": {
              "color": "white"
             }
            },
            "header": {
             "fill": {
              "color": "#C8D4E3"
             },
             "line": {
              "color": "white"
             }
            },
            "type": "table"
           }
          ]
         },
         "layout": {
          "annotationdefaults": {
           "arrowcolor": "#2a3f5f",
           "arrowhead": 0,
           "arrowwidth": 1
          },
          "autotypenumbers": "strict",
          "coloraxis": {
           "colorbar": {
            "outlinewidth": 0,
            "ticks": ""
           }
          },
          "colorscale": {
           "diverging": [
            [
             0,
             "#8e0152"
            ],
            [
             0.1,
             "#c51b7d"
            ],
            [
             0.2,
             "#de77ae"
            ],
            [
             0.3,
             "#f1b6da"
            ],
            [
             0.4,
             "#fde0ef"
            ],
            [
             0.5,
             "#f7f7f7"
            ],
            [
             0.6,
             "#e6f5d0"
            ],
            [
             0.7,
             "#b8e186"
            ],
            [
             0.8,
             "#7fbc41"
            ],
            [
             0.9,
             "#4d9221"
            ],
            [
             1,
             "#276419"
            ]
           ],
           "sequential": [
            [
             0,
             "#0d0887"
            ],
            [
             0.1111111111111111,
             "#46039f"
            ],
            [
             0.2222222222222222,
             "#7201a8"
            ],
            [
             0.3333333333333333,
             "#9c179e"
            ],
            [
             0.4444444444444444,
             "#bd3786"
            ],
            [
             0.5555555555555556,
             "#d8576b"
            ],
            [
             0.6666666666666666,
             "#ed7953"
            ],
            [
             0.7777777777777778,
             "#fb9f3a"
            ],
            [
             0.8888888888888888,
             "#fdca26"
            ],
            [
             1,
             "#f0f921"
            ]
           ],
           "sequentialminus": [
            [
             0,
             "#0d0887"
            ],
            [
             0.1111111111111111,
             "#46039f"
            ],
            [
             0.2222222222222222,
             "#7201a8"
            ],
            [
             0.3333333333333333,
             "#9c179e"
            ],
            [
             0.4444444444444444,
             "#bd3786"
            ],
            [
             0.5555555555555556,
             "#d8576b"
            ],
            [
             0.6666666666666666,
             "#ed7953"
            ],
            [
             0.7777777777777778,
             "#fb9f3a"
            ],
            [
             0.8888888888888888,
             "#fdca26"
            ],
            [
             1,
             "#f0f921"
            ]
           ]
          },
          "colorway": [
           "#636efa",
           "#EF553B",
           "#00cc96",
           "#ab63fa",
           "#FFA15A",
           "#19d3f3",
           "#FF6692",
           "#B6E880",
           "#FF97FF",
           "#FECB52"
          ],
          "font": {
           "color": "#2a3f5f"
          },
          "geo": {
           "bgcolor": "white",
           "lakecolor": "white",
           "landcolor": "#E5ECF6",
           "showlakes": true,
           "showland": true,
           "subunitcolor": "white"
          },
          "hoverlabel": {
           "align": "left"
          },
          "hovermode": "closest",
          "mapbox": {
           "style": "light"
          },
          "paper_bgcolor": "white",
          "plot_bgcolor": "#E5ECF6",
          "polar": {
           "angularaxis": {
            "gridcolor": "white",
            "linecolor": "white",
            "ticks": ""
           },
           "bgcolor": "#E5ECF6",
           "radialaxis": {
            "gridcolor": "white",
            "linecolor": "white",
            "ticks": ""
           }
          },
          "scene": {
           "xaxis": {
            "backgroundcolor": "#E5ECF6",
            "gridcolor": "white",
            "gridwidth": 2,
            "linecolor": "white",
            "showbackground": true,
            "ticks": "",
            "zerolinecolor": "white"
           },
           "yaxis": {
            "backgroundcolor": "#E5ECF6",
            "gridcolor": "white",
            "gridwidth": 2,
            "linecolor": "white",
            "showbackground": true,
            "ticks": "",
            "zerolinecolor": "white"
           },
           "zaxis": {
            "backgroundcolor": "#E5ECF6",
            "gridcolor": "white",
            "gridwidth": 2,
            "linecolor": "white",
            "showbackground": true,
            "ticks": "",
            "zerolinecolor": "white"
           }
          },
          "shapedefaults": {
           "line": {
            "color": "#2a3f5f"
           }
          },
          "ternary": {
           "aaxis": {
            "gridcolor": "white",
            "linecolor": "white",
            "ticks": ""
           },
           "baxis": {
            "gridcolor": "white",
            "linecolor": "white",
            "ticks": ""
           },
           "bgcolor": "#E5ECF6",
           "caxis": {
            "gridcolor": "white",
            "linecolor": "white",
            "ticks": ""
           }
          },
          "title": {
           "x": 0.05
          },
          "xaxis": {
           "automargin": true,
           "gridcolor": "white",
           "linecolor": "white",
           "ticks": "",
           "title": {
            "standoff": 15
           },
           "zerolinecolor": "white",
           "zerolinewidth": 2
          },
          "yaxis": {
           "automargin": true,
           "gridcolor": "white",
           "linecolor": "white",
           "ticks": "",
           "title": {
            "standoff": 15
           },
           "zerolinecolor": "white",
           "zerolinewidth": 2
          }
         }
        },
        "title": {
         "font": {
          "color": "#4D5663"
         },
         "text": "Child-friendly Lego parts by released year"
        },
        "xaxis": {
         "gridcolor": "#E1E5ED",
         "showgrid": true,
         "tickfont": {
          "color": "#4D5663"
         },
         "title": {
          "font": {
           "color": "#4D5663"
          },
          "text": ""
         },
         "zerolinecolor": "#E1E5ED"
        },
        "yaxis": {
         "gridcolor": "#E1E5ED",
         "showgrid": true,
         "tickfont": {
          "color": "#4D5663"
         },
         "title": {
          "font": {
           "color": "#4D5663"
          },
          "text": ""
         },
         "zerolinecolor": "#E1E5ED"
        }
       }
      },
      "text/html": [
       "<div>                            <div id=\"44704bb4-033f-4791-aec2-19f18debc599\" class=\"plotly-graph-div\" style=\"height:525px; width:100%;\"></div>            <script type=\"text/javascript\">                require([\"plotly\"], function(Plotly) {                    window.PLOTLYENV=window.PLOTLYENV || {};\n",
       "                    window.PLOTLYENV.BASE_URL='https://plot.ly';                                    if (document.getElementById(\"44704bb4-033f-4791-aec2-19f18debc599\")) {                    Plotly.newPlot(                        \"44704bb4-033f-4791-aec2-19f18debc599\",                        [{\"line\": {\"color\": \"rgba(255, 153, 51, 1.0)\", \"dash\": \"solid\", \"shape\": \"linear\", \"width\": 1.3}, \"marker\": {\"size\": 12, \"symbol\": \"circle\"}, \"mode\": \"markers\", \"name\": \"child_friendly_Lego_parts\", \"text\": \"\", \"type\": \"scatter\", \"x\": [\"2020-01-01\", \"2016-01-01\", \"2019-01-01\", \"2018-01-01\", \"2015-01-01\", \"2017-01-01\", \"2014-01-01\", \"2013-01-01\", \"2012-01-01\", \"2002-01-01\", \"2011-01-01\", \"2003-01-01\", \"2010-01-01\", \"2009-01-01\", \"2004-01-01\", \"1998-01-01\", \"2001-01-01\", \"2000-01-01\", \"1999-01-01\", \"2005-01-01\", \"2008-01-01\", \"2021-01-01\", \"2006-01-01\", \"2007-01-01\", \"1997-01-01\", \"1987-01-01\", \"1996-01-01\", \"1995-01-01\", \"1985-01-01\", \"1994-01-01\", \"1986-01-01\", \"1991-01-01\", \"1993-01-01\", \"1989-01-01\", \"1992-01-01\", \"1990-01-01\", \"1966-01-01\", \"1980-01-01\", \"1977-01-01\", \"1979-01-01\", \"1984-01-01\", \"1982-01-01\", \"1981-01-01\", \"1969-01-01\", \"1988-01-01\", \"1978-01-01\", \"1976-01-01\", \"1983-01-01\", \"1973-01-01\", \"1971-01-01\", \"1958-01-01\", \"1974-01-01\", \"1972-01-01\", \"1975-01-01\", \"1968-01-01\", \"1970-01-01\", \"1955-01-01\", \"1967-01-01\", \"1961-01-01\", \"1957-01-01\", \"1964-01-01\", \"1954-01-01\", \"1965-01-01\", \"1956-01-01\", \"1962-01-01\", \"1963-01-01\", \"1950-01-01\", \"1949-01-01\", \"1959-01-01\", \"1953-01-01\", \"1960-01-01\"], \"y\": [695, 687, 673, 669, 653, 653, 551, 521, 514, 456, 445, 399, 397, 395, 373, 361, 351, 334, 332, 326, 305, 302, 295, 277, 246, 230, 193, 175, 161, 155, 154, 145, 132, 130, 130, 107, 106, 102, 100, 92, 90, 84, 82, 80, 79, 77, 74, 71, 68, 50, 47, 40, 39, 39, 38, 37, 27, 25, 21, 18, 16, 14, 13, 12, 12, 12, 6, 5, 4, 3, 2]}],                        {\"legend\": {\"bgcolor\": \"#F5F6F9\", \"font\": {\"color\": \"#4D5663\"}}, \"paper_bgcolor\": \"#F5F6F9\", \"plot_bgcolor\": \"#F5F6F9\", \"template\": {\"data\": {\"bar\": [{\"error_x\": {\"color\": \"#2a3f5f\"}, \"error_y\": {\"color\": \"#2a3f5f\"}, \"marker\": {\"line\": {\"color\": \"#E5ECF6\", \"width\": 0.5}}, \"type\": \"bar\"}], \"barpolar\": [{\"marker\": {\"line\": {\"color\": \"#E5ECF6\", \"width\": 0.5}}, \"type\": \"barpolar\"}], \"carpet\": [{\"aaxis\": {\"endlinecolor\": \"#2a3f5f\", \"gridcolor\": \"white\", \"linecolor\": \"white\", \"minorgridcolor\": \"white\", \"startlinecolor\": \"#2a3f5f\"}, \"baxis\": {\"endlinecolor\": \"#2a3f5f\", \"gridcolor\": \"white\", \"linecolor\": \"white\", \"minorgridcolor\": \"white\", \"startlinecolor\": \"#2a3f5f\"}, \"type\": \"carpet\"}], \"choropleth\": [{\"colorbar\": {\"outlinewidth\": 0, \"ticks\": \"\"}, \"type\": \"choropleth\"}], \"contour\": [{\"colorbar\": {\"outlinewidth\": 0, \"ticks\": \"\"}, \"colorscale\": [[0.0, \"#0d0887\"], [0.1111111111111111, \"#46039f\"], [0.2222222222222222, \"#7201a8\"], [0.3333333333333333, \"#9c179e\"], [0.4444444444444444, \"#bd3786\"], [0.5555555555555556, \"#d8576b\"], [0.6666666666666666, \"#ed7953\"], [0.7777777777777778, \"#fb9f3a\"], [0.8888888888888888, \"#fdca26\"], [1.0, \"#f0f921\"]], \"type\": \"contour\"}], \"contourcarpet\": [{\"colorbar\": {\"outlinewidth\": 0, \"ticks\": \"\"}, \"type\": \"contourcarpet\"}], \"heatmap\": [{\"colorbar\": {\"outlinewidth\": 0, \"ticks\": \"\"}, \"colorscale\": [[0.0, \"#0d0887\"], [0.1111111111111111, \"#46039f\"], [0.2222222222222222, \"#7201a8\"], [0.3333333333333333, \"#9c179e\"], [0.4444444444444444, \"#bd3786\"], [0.5555555555555556, \"#d8576b\"], [0.6666666666666666, \"#ed7953\"], [0.7777777777777778, \"#fb9f3a\"], [0.8888888888888888, \"#fdca26\"], [1.0, \"#f0f921\"]], \"type\": \"heatmap\"}], \"heatmapgl\": [{\"colorbar\": {\"outlinewidth\": 0, \"ticks\": \"\"}, \"colorscale\": [[0.0, \"#0d0887\"], [0.1111111111111111, \"#46039f\"], [0.2222222222222222, \"#7201a8\"], [0.3333333333333333, \"#9c179e\"], [0.4444444444444444, \"#bd3786\"], [0.5555555555555556, \"#d8576b\"], [0.6666666666666666, \"#ed7953\"], [0.7777777777777778, \"#fb9f3a\"], [0.8888888888888888, \"#fdca26\"], [1.0, \"#f0f921\"]], \"type\": \"heatmapgl\"}], \"histogram\": [{\"marker\": {\"colorbar\": {\"outlinewidth\": 0, \"ticks\": \"\"}}, \"type\": \"histogram\"}], \"histogram2d\": [{\"colorbar\": {\"outlinewidth\": 0, \"ticks\": \"\"}, \"colorscale\": [[0.0, \"#0d0887\"], [0.1111111111111111, \"#46039f\"], [0.2222222222222222, \"#7201a8\"], [0.3333333333333333, \"#9c179e\"], [0.4444444444444444, \"#bd3786\"], [0.5555555555555556, \"#d8576b\"], [0.6666666666666666, \"#ed7953\"], [0.7777777777777778, \"#fb9f3a\"], [0.8888888888888888, \"#fdca26\"], [1.0, \"#f0f921\"]], \"type\": \"histogram2d\"}], \"histogram2dcontour\": [{\"colorbar\": {\"outlinewidth\": 0, \"ticks\": \"\"}, \"colorscale\": [[0.0, \"#0d0887\"], [0.1111111111111111, \"#46039f\"], [0.2222222222222222, \"#7201a8\"], [0.3333333333333333, \"#9c179e\"], [0.4444444444444444, \"#bd3786\"], [0.5555555555555556, \"#d8576b\"], [0.6666666666666666, \"#ed7953\"], [0.7777777777777778, \"#fb9f3a\"], [0.8888888888888888, \"#fdca26\"], [1.0, \"#f0f921\"]], \"type\": \"histogram2dcontour\"}], \"mesh3d\": [{\"colorbar\": {\"outlinewidth\": 0, \"ticks\": \"\"}, \"type\": \"mesh3d\"}], \"parcoords\": [{\"line\": {\"colorbar\": {\"outlinewidth\": 0, \"ticks\": \"\"}}, \"type\": \"parcoords\"}], \"pie\": [{\"automargin\": true, \"type\": \"pie\"}], \"scatter\": [{\"marker\": {\"colorbar\": {\"outlinewidth\": 0, \"ticks\": \"\"}}, \"type\": \"scatter\"}], \"scatter3d\": [{\"line\": {\"colorbar\": {\"outlinewidth\": 0, \"ticks\": \"\"}}, \"marker\": {\"colorbar\": {\"outlinewidth\": 0, \"ticks\": \"\"}}, \"type\": \"scatter3d\"}], \"scattercarpet\": [{\"marker\": {\"colorbar\": {\"outlinewidth\": 0, \"ticks\": \"\"}}, \"type\": \"scattercarpet\"}], \"scattergeo\": [{\"marker\": {\"colorbar\": {\"outlinewidth\": 0, \"ticks\": \"\"}}, \"type\": \"scattergeo\"}], \"scattergl\": [{\"marker\": {\"colorbar\": {\"outlinewidth\": 0, \"ticks\": \"\"}}, \"type\": \"scattergl\"}], \"scattermapbox\": [{\"marker\": {\"colorbar\": {\"outlinewidth\": 0, \"ticks\": \"\"}}, \"type\": \"scattermapbox\"}], \"scatterpolar\": [{\"marker\": {\"colorbar\": {\"outlinewidth\": 0, \"ticks\": \"\"}}, \"type\": \"scatterpolar\"}], \"scatterpolargl\": [{\"marker\": {\"colorbar\": {\"outlinewidth\": 0, \"ticks\": \"\"}}, \"type\": \"scatterpolargl\"}], \"scatterternary\": [{\"marker\": {\"colorbar\": {\"outlinewidth\": 0, \"ticks\": \"\"}}, \"type\": \"scatterternary\"}], \"surface\": [{\"colorbar\": {\"outlinewidth\": 0, \"ticks\": \"\"}, \"colorscale\": [[0.0, \"#0d0887\"], [0.1111111111111111, \"#46039f\"], [0.2222222222222222, \"#7201a8\"], [0.3333333333333333, \"#9c179e\"], [0.4444444444444444, \"#bd3786\"], [0.5555555555555556, \"#d8576b\"], [0.6666666666666666, \"#ed7953\"], [0.7777777777777778, \"#fb9f3a\"], [0.8888888888888888, \"#fdca26\"], [1.0, \"#f0f921\"]], \"type\": \"surface\"}], \"table\": [{\"cells\": {\"fill\": {\"color\": \"#EBF0F8\"}, \"line\": {\"color\": \"white\"}}, \"header\": {\"fill\": {\"color\": \"#C8D4E3\"}, \"line\": {\"color\": \"white\"}}, \"type\": \"table\"}]}, \"layout\": {\"annotationdefaults\": {\"arrowcolor\": \"#2a3f5f\", \"arrowhead\": 0, \"arrowwidth\": 1}, \"autotypenumbers\": \"strict\", \"coloraxis\": {\"colorbar\": {\"outlinewidth\": 0, \"ticks\": \"\"}}, \"colorscale\": {\"diverging\": [[0, \"#8e0152\"], [0.1, \"#c51b7d\"], [0.2, \"#de77ae\"], [0.3, \"#f1b6da\"], [0.4, \"#fde0ef\"], [0.5, \"#f7f7f7\"], [0.6, \"#e6f5d0\"], [0.7, \"#b8e186\"], [0.8, \"#7fbc41\"], [0.9, \"#4d9221\"], [1, \"#276419\"]], \"sequential\": [[0.0, \"#0d0887\"], [0.1111111111111111, \"#46039f\"], [0.2222222222222222, \"#7201a8\"], [0.3333333333333333, \"#9c179e\"], [0.4444444444444444, \"#bd3786\"], [0.5555555555555556, \"#d8576b\"], [0.6666666666666666, \"#ed7953\"], [0.7777777777777778, \"#fb9f3a\"], [0.8888888888888888, \"#fdca26\"], [1.0, \"#f0f921\"]], \"sequentialminus\": [[0.0, \"#0d0887\"], [0.1111111111111111, \"#46039f\"], [0.2222222222222222, \"#7201a8\"], [0.3333333333333333, \"#9c179e\"], [0.4444444444444444, \"#bd3786\"], [0.5555555555555556, \"#d8576b\"], [0.6666666666666666, \"#ed7953\"], [0.7777777777777778, \"#fb9f3a\"], [0.8888888888888888, \"#fdca26\"], [1.0, \"#f0f921\"]]}, \"colorway\": [\"#636efa\", \"#EF553B\", \"#00cc96\", \"#ab63fa\", \"#FFA15A\", \"#19d3f3\", \"#FF6692\", \"#B6E880\", \"#FF97FF\", \"#FECB52\"], \"font\": {\"color\": \"#2a3f5f\"}, \"geo\": {\"bgcolor\": \"white\", \"lakecolor\": \"white\", \"landcolor\": \"#E5ECF6\", \"showlakes\": true, \"showland\": true, \"subunitcolor\": \"white\"}, \"hoverlabel\": {\"align\": \"left\"}, \"hovermode\": \"closest\", \"mapbox\": {\"style\": \"light\"}, \"paper_bgcolor\": \"white\", \"plot_bgcolor\": \"#E5ECF6\", \"polar\": {\"angularaxis\": {\"gridcolor\": \"white\", \"linecolor\": \"white\", \"ticks\": \"\"}, \"bgcolor\": \"#E5ECF6\", \"radialaxis\": {\"gridcolor\": \"white\", \"linecolor\": \"white\", \"ticks\": \"\"}}, \"scene\": {\"xaxis\": {\"backgroundcolor\": \"#E5ECF6\", \"gridcolor\": \"white\", \"gridwidth\": 2, \"linecolor\": \"white\", \"showbackground\": true, \"ticks\": \"\", \"zerolinecolor\": \"white\"}, \"yaxis\": {\"backgroundcolor\": \"#E5ECF6\", \"gridcolor\": \"white\", \"gridwidth\": 2, \"linecolor\": \"white\", \"showbackground\": true, \"ticks\": \"\", \"zerolinecolor\": \"white\"}, \"zaxis\": {\"backgroundcolor\": \"#E5ECF6\", \"gridcolor\": \"white\", \"gridwidth\": 2, \"linecolor\": \"white\", \"showbackground\": true, \"ticks\": \"\", \"zerolinecolor\": \"white\"}}, \"shapedefaults\": {\"line\": {\"color\": \"#2a3f5f\"}}, \"ternary\": {\"aaxis\": {\"gridcolor\": \"white\", \"linecolor\": \"white\", \"ticks\": \"\"}, \"baxis\": {\"gridcolor\": \"white\", \"linecolor\": \"white\", \"ticks\": \"\"}, \"bgcolor\": \"#E5ECF6\", \"caxis\": {\"gridcolor\": \"white\", \"linecolor\": \"white\", \"ticks\": \"\"}}, \"title\": {\"x\": 0.05}, \"xaxis\": {\"automargin\": true, \"gridcolor\": \"white\", \"linecolor\": \"white\", \"ticks\": \"\", \"title\": {\"standoff\": 15}, \"zerolinecolor\": \"white\", \"zerolinewidth\": 2}, \"yaxis\": {\"automargin\": true, \"gridcolor\": \"white\", \"linecolor\": \"white\", \"ticks\": \"\", \"title\": {\"standoff\": 15}, \"zerolinecolor\": \"white\", \"zerolinewidth\": 2}}}, \"title\": {\"font\": {\"color\": \"#4D5663\"}, \"text\": \"Child-friendly Lego parts by released year\"}, \"xaxis\": {\"gridcolor\": \"#E1E5ED\", \"showgrid\": true, \"tickfont\": {\"color\": \"#4D5663\"}, \"title\": {\"font\": {\"color\": \"#4D5663\"}, \"text\": \"\"}, \"zerolinecolor\": \"#E1E5ED\"}, \"yaxis\": {\"gridcolor\": \"#E1E5ED\", \"showgrid\": true, \"tickfont\": {\"color\": \"#4D5663\"}, \"title\": {\"font\": {\"color\": \"#4D5663\"}, \"text\": \"\"}, \"zerolinecolor\": \"#E1E5ED\"}},                        {\"showLink\": true, \"linkText\": \"Export to plot.ly\", \"plotlyServerURL\": \"https://plot.ly\", \"responsive\": true}                    ).then(function(){\n",
       "                            \n",
       "var gd = document.getElementById('44704bb4-033f-4791-aec2-19f18debc599');\n",
       "var x = new MutationObserver(function (mutations, observer) {{\n",
       "        var display = window.getComputedStyle(gd).display;\n",
       "        if (!display || display === 'none') {{\n",
       "            console.log([gd, 'removed!']);\n",
       "            Plotly.purge(gd);\n",
       "            observer.disconnect();\n",
       "        }}\n",
       "}});\n",
       "\n",
       "// Listen for the removal of the full notebook cells\n",
       "var notebookContainer = gd.closest('#notebook-container');\n",
       "if (notebookContainer) {{\n",
       "    x.observe(notebookContainer, {childList: true});\n",
       "}}\n",
       "\n",
       "// Listen for the clearing of the current output cell\n",
       "var outputEl = gd.closest('.output');\n",
       "if (outputEl) {{\n",
       "    x.observe(outputEl, {childList: true});\n",
       "}}\n",
       "\n",
       "                        })                };                });            </script>        </div>"
      ]
     },
     "metadata": {},
     "output_type": "display_data"
    }
   ],
   "source": [
    "# Let's draw the graph:\n",
    "# Please install 'Cufflinks' lib (pip install cufflinks) in case you cannot see this beautiful graph. \n",
    "# Interactive timeseries: Child-friendly Lego parts by released year \n",
    "\n",
    "# Convert int to date time year\n",
    "dfresult1['year_sets_released'] = pd.to_datetime(dfresult1['year_sets_released'], format='%Y')\n",
    "\n",
    "# Library Configuration\n",
    "from plotly.offline import download_plotlyjs, init_notebook_mode, plot, iplot\n",
    "  \n",
    "# to get the connection\n",
    "init_notebook_mode(connected = True)\n",
    "cf.go_offline\n",
    "dfresult1.iplot(mode='markers', x ='year_sets_released', y ='child_friendly_Lego_parts', \\\n",
    "                title = 'Child-friendly Lego parts by released year')\n"
   ]
  },
  {
   "cell_type": "code",
   "execution_count": 56,
   "metadata": {},
   "outputs": [
    {
     "data": {
      "text/html": [
       "<div>\n",
       "<style scoped>\n",
       "    .dataframe tbody tr th:only-of-type {\n",
       "        vertical-align: middle;\n",
       "    }\n",
       "\n",
       "    .dataframe tbody tr th {\n",
       "        vertical-align: top;\n",
       "    }\n",
       "\n",
       "    .dataframe thead th {\n",
       "        text-align: right;\n",
       "    }\n",
       "</style>\n",
       "<table border=\"1\" class=\"dataframe\">\n",
       "  <thead>\n",
       "    <tr style=\"text-align: right;\">\n",
       "      <th></th>\n",
       "      <th>year_sets_released</th>\n",
       "      <th>child_friendly_Lego_parts</th>\n",
       "    </tr>\n",
       "  </thead>\n",
       "  <tbody>\n",
       "    <tr>\n",
       "      <th>0</th>\n",
       "      <td>2020-01-01</td>\n",
       "      <td>695</td>\n",
       "    </tr>\n",
       "    <tr>\n",
       "      <th>1</th>\n",
       "      <td>2016-01-01</td>\n",
       "      <td>687</td>\n",
       "    </tr>\n",
       "    <tr>\n",
       "      <th>2</th>\n",
       "      <td>2019-01-01</td>\n",
       "      <td>673</td>\n",
       "    </tr>\n",
       "    <tr>\n",
       "      <th>3</th>\n",
       "      <td>2018-01-01</td>\n",
       "      <td>669</td>\n",
       "    </tr>\n",
       "    <tr>\n",
       "      <th>4</th>\n",
       "      <td>2015-01-01</td>\n",
       "      <td>653</td>\n",
       "    </tr>\n",
       "    <tr>\n",
       "      <th>...</th>\n",
       "      <td>...</td>\n",
       "      <td>...</td>\n",
       "    </tr>\n",
       "    <tr>\n",
       "      <th>66</th>\n",
       "      <td>1950-01-01</td>\n",
       "      <td>6</td>\n",
       "    </tr>\n",
       "    <tr>\n",
       "      <th>67</th>\n",
       "      <td>1949-01-01</td>\n",
       "      <td>5</td>\n",
       "    </tr>\n",
       "    <tr>\n",
       "      <th>68</th>\n",
       "      <td>1959-01-01</td>\n",
       "      <td>4</td>\n",
       "    </tr>\n",
       "    <tr>\n",
       "      <th>69</th>\n",
       "      <td>1953-01-01</td>\n",
       "      <td>3</td>\n",
       "    </tr>\n",
       "    <tr>\n",
       "      <th>70</th>\n",
       "      <td>1960-01-01</td>\n",
       "      <td>2</td>\n",
       "    </tr>\n",
       "  </tbody>\n",
       "</table>\n",
       "<p>71 rows × 2 columns</p>\n",
       "</div>"
      ],
      "text/plain": [
       "   year_sets_released  child_friendly_Lego_parts\n",
       "0  2020-01-01          695                      \n",
       "1  2016-01-01          687                      \n",
       "2  2019-01-01          673                      \n",
       "3  2018-01-01          669                      \n",
       "4  2015-01-01          653                      \n",
       "..        ...          ...                      \n",
       "66 1950-01-01          6                        \n",
       "67 1949-01-01          5                        \n",
       "68 1959-01-01          4                        \n",
       "69 1953-01-01          3                        \n",
       "70 1960-01-01          2                        \n",
       "\n",
       "[71 rows x 2 columns]"
      ]
     },
     "execution_count": 56,
     "metadata": {},
     "output_type": "execute_result"
    }
   ],
   "source": [
    "\n",
    "dfresult1"
   ]
  },
  {
   "cell_type": "markdown",
   "metadata": {},
   "source": [
    "<a id='1-B'></a>\n",
    "### <font color=blue><center>1-B: Table with a hierachy at themes table</center> ###"
   ]
  },
  {
   "cell_type": "code",
   "execution_count": 39,
   "metadata": {
    "scrolled": true
   },
   "outputs": [
    {
     "name": "stderr",
     "output_type": "stream",
     "text": [
      "Downloading: 100%|███████████████████████████████████████████████████████████| 14675/14675 [00:01<00:00, 8234.67rows/s]\n"
     ]
    },
    {
     "data": {
      "text/html": [
       "<div>\n",
       "<style scoped>\n",
       "    .dataframe tbody tr th:only-of-type {\n",
       "        vertical-align: middle;\n",
       "    }\n",
       "\n",
       "    .dataframe tbody tr th {\n",
       "        vertical-align: top;\n",
       "    }\n",
       "\n",
       "    .dataframe thead th {\n",
       "        text-align: right;\n",
       "    }\n",
       "</style>\n",
       "<table border=\"1\" class=\"dataframe\">\n",
       "  <thead>\n",
       "    <tr style=\"text-align: right;\">\n",
       "      <th></th>\n",
       "      <th>cat1_theme_parent</th>\n",
       "      <th>cat2_theme_child</th>\n",
       "      <th>cat3_set_num</th>\n",
       "      <th>parts_availablity</th>\n",
       "    </tr>\n",
       "  </thead>\n",
       "  <tbody>\n",
       "    <tr>\n",
       "      <th>0</th>\n",
       "      <td>1</td>\n",
       "      <td>1</td>\n",
       "      <td>1</td>\n",
       "      <td>83.33 %</td>\n",
       "    </tr>\n",
       "    <tr>\n",
       "      <th>1</th>\n",
       "      <td>1</td>\n",
       "      <td>1</td>\n",
       "      <td>2</td>\n",
       "      <td>53.85 %</td>\n",
       "    </tr>\n",
       "    <tr>\n",
       "      <th>2</th>\n",
       "      <td>1</td>\n",
       "      <td>1</td>\n",
       "      <td>3</td>\n",
       "      <td>42.86 %</td>\n",
       "    </tr>\n",
       "    <tr>\n",
       "      <th>3</th>\n",
       "      <td>1</td>\n",
       "      <td>1</td>\n",
       "      <td>4</td>\n",
       "      <td>44.44 %</td>\n",
       "    </tr>\n",
       "    <tr>\n",
       "      <th>4</th>\n",
       "      <td>1</td>\n",
       "      <td>1</td>\n",
       "      <td>5</td>\n",
       "      <td>48.54 %</td>\n",
       "    </tr>\n",
       "    <tr>\n",
       "      <th>...</th>\n",
       "      <td>...</td>\n",
       "      <td>...</td>\n",
       "      <td>...</td>\n",
       "      <td>...</td>\n",
       "    </tr>\n",
       "    <tr>\n",
       "      <th>14670</th>\n",
       "      <td>69</td>\n",
       "      <td>2</td>\n",
       "      <td>43</td>\n",
       "      <td>48.33 %</td>\n",
       "    </tr>\n",
       "    <tr>\n",
       "      <th>14671</th>\n",
       "      <td>69</td>\n",
       "      <td>3</td>\n",
       "      <td>1</td>\n",
       "      <td>12.49 %</td>\n",
       "    </tr>\n",
       "    <tr>\n",
       "      <th>14672</th>\n",
       "      <td>69</td>\n",
       "      <td>3</td>\n",
       "      <td>2</td>\n",
       "      <td>9.97 %</td>\n",
       "    </tr>\n",
       "    <tr>\n",
       "      <th>14673</th>\n",
       "      <td>69</td>\n",
       "      <td>3</td>\n",
       "      <td>3</td>\n",
       "      <td>9.73 %</td>\n",
       "    </tr>\n",
       "    <tr>\n",
       "      <th>14674</th>\n",
       "      <td>69</td>\n",
       "      <td>3</td>\n",
       "      <td>4</td>\n",
       "      <td>14.64 %</td>\n",
       "    </tr>\n",
       "  </tbody>\n",
       "</table>\n",
       "<p>14675 rows × 4 columns</p>\n",
       "</div>"
      ],
      "text/plain": [
       "       cat1_theme_parent  cat2_theme_child  cat3_set_num parts_availablity\n",
       "0      1                  1                 1             83.33 %         \n",
       "1      1                  1                 2             53.85 %         \n",
       "2      1                  1                 3             42.86 %         \n",
       "3      1                  1                 4             44.44 %         \n",
       "4      1                  1                 5             48.54 %         \n",
       "...   ..                 ..                ..                 ...         \n",
       "14670  69                 2                 43            48.33 %         \n",
       "14671  69                 3                 1             12.49 %         \n",
       "14672  69                 3                 2             9.97 %          \n",
       "14673  69                 3                 3             9.73 %          \n",
       "14674  69                 3                 4             14.64 %         \n",
       "\n",
       "[14675 rows x 4 columns]"
      ]
     },
     "execution_count": 39,
     "metadata": {},
     "output_type": "execute_result"
    }
   ],
   "source": [
    "# It will generate query_q2 and save it for Power Bi usage\n",
    "# Descrption: First, I temporarily generated hierachy_table as a CTE. It has 3 levels:\n",
    "# level1_ID: cat1_theme_parent, level2_ID: cat2_theme_child, and level3_ID: cat3_set_num\n",
    "# Then, it will create a table with the above levels, which can be joined to the CTE as a separate table thus the cat names\n",
    "# can be extracted. Then, the last column is parts availabilty which is the number of DISTINCT parts available in \n",
    "# inventory devided by total number of parts. With that, we would the availability rate of our inventory (associated with a\n",
    "# reliable customer service.)\n",
    "query_q2 = \"\"\"\n",
    "\n",
    "CREATE TABLE `clark-643191304.milad_db.query_q2` AS\n",
    "WITH hierachy_table AS (\n",
    "\tSELECT DENSE_RANK() OVER(ORDER BY level1) level1_ID, level1 level1_name, \n",
    "\tDENSE_RANK() OVER(PARTITION BY CAST(level1 AS INT64) ORDER BY level2) level2_ID, \n",
    "    CASE WHEN level2 = 'NULL' THEN NULL ELSE level2 END level2_name, \n",
    "    CASE WHEN id = -99 THEN NULL ELSE id END id,\n",
    "    DENSE_RANK() OVER(PARTITION BY CAST(level1 AS INT64), level2 ORDER BY set_num) level3_ID, h2.set_num level3_name\n",
    "\tFROM (\n",
    "\t\tSELECT parent_id level1 , name level2, id\n",
    "\t\tFROM `clark-643191304.milad_db.themes`\n",
    "\t\tGROUP BY 1,2,3\n",
    "\t\tUNION DISTINCT\n",
    "\t\tSELECT parent_id, 'NULL', -99\n",
    "\t\tFROM `clark-643191304.milad_db.themes`\n",
    "\t\tGROUP BY 1, 2, 3\n",
    "    ) h1\n",
    "    LEFT JOIN `clark-643191304.milad_db.sets` h2 ON h1.id = h2.theme_id\n",
    ")\n",
    "SELECT h.level1_ID cat1_theme_parent, h.level2_ID cat2_theme_child, h.level3_ID cat3_set_num,  \n",
    "CONCAT(ROUND(COUNT(DISTINCT ip.part_num)/SUM(DISTINCT s.num_parts)*100,2),' %') parts_availablity\n",
    "FROM hierachy_table h\n",
    "LEFT JOIN `clark-643191304.milad_db.sets` s ON s.theme_id = h.id AND h.level3_name = s.set_num\n",
    "LEFT JOIN `clark-643191304.milad_db.inventories` i ON i.set_num = s.set_num AND i.version = 1\n",
    "LEFT JOIN `clark-643191304.milad_db.inventory_parts` ip ON ip.inventory_id = i.id \n",
    "GROUP BY 1,2,3\n",
    "HAVING SUM(DISTINCT s.num_parts) <> 0\n",
    "ORDER BY 1,2,3\n",
    ";\n",
    "\n",
    "\"\"\"\n",
    "dfresult2 = pd.read_gbq(query_q2, project_id='clark-643191304', dialect='standard')\n",
    "dfresult2"
   ]
  },
  {
   "cell_type": "code",
   "execution_count": 100,
   "metadata": {
    "scrolled": true
   },
   "outputs": [
    {
     "name": "stdout",
     "output_type": "stream",
     "text": [
      "\n",
      " \u001b[1m \u001b[92m                           *** Inventory Availability of cat1_theme_parent *** \u001b[0m\n"
     ]
    },
    {
     "data": {
      "image/png": "[encoded data removed]",
      "text/plain": [
       "<Figure size 1080x288 with 1 Axes>"
      ]
     },
     "metadata": {
      "needs_background": "light"
     },
     "output_type": "display_data"
    }
   ],
   "source": [
    "# Average availability of cat1 (Note that; average on percentage is not accurate, this table is just a sample)\n",
    "\n",
    "# First, we should get rid of % and convert data into numeric value\n",
    "dfresult2['parts_availablity'] = dfresult2['parts_availablity'].str.rstrip(' \" %\"').astype(float)\n",
    "\n",
    "# This code define 'color' locally for the sake of 'print' function\n",
    "class color:\n",
    "   GREEN = '\\033[92m'\n",
    "   BOLD = '\\033[1m'\n",
    "   END = '\\033[0m'\n",
    "\n",
    "# Generate some spaces for 'print' function\n",
    "my_space = ' ' * 25\n",
    "\n",
    "# This code just automate the procedure so that it'd be easier later to add more cols\n",
    "col_mean = ['cat1_theme_parent']\n",
    "for feature in (col_mean):\n",
    "    dfresult2.groupby(feature)['parts_availablity'].mean().sort_values(ascending=False).plot(kind ='bar', \\\n",
    "                                                                            figsize=(15,4),color='darkcyan', width=0.5)\n",
    "    plt.title(print('\\n',color.BOLD,color.GREEN,my_space,\"*** Inventory Availability of\",feature,'***',color.END), fontsize=12)\n",
    "    plt.xlabel('') \n",
    "    plt.show();"
   ]
  },
  {
   "cell_type": "markdown",
   "metadata": {},
   "source": [
    "<a id='1-C'></a>\n",
    "### <font color=blue><center>1-C: User-defined table</center> ###"
   ]
  },
  {
   "cell_type": "code",
   "execution_count": 107,
   "metadata": {},
   "outputs": [
    {
     "name": "stderr",
     "output_type": "stream",
     "text": [
      "Downloading: 100%|█████████████████████████████████████████████████████████████| 6602/6602 [00:01<00:00, 5816.86rows/s]\n"
     ]
    },
    {
     "data": {
      "text/html": [
       "<div>\n",
       "<style scoped>\n",
       "    .dataframe tbody tr th:only-of-type {\n",
       "        vertical-align: middle;\n",
       "    }\n",
       "\n",
       "    .dataframe tbody tr th {\n",
       "        vertical-align: top;\n",
       "    }\n",
       "\n",
       "    .dataframe thead th {\n",
       "        text-align: right;\n",
       "    }\n",
       "</style>\n",
       "<table border=\"1\" class=\"dataframe\">\n",
       "  <thead>\n",
       "    <tr style=\"text-align: right;\">\n",
       "      <th></th>\n",
       "      <th>minifig</th>\n",
       "      <th>dominating_color</th>\n",
       "    </tr>\n",
       "  </thead>\n",
       "  <tbody>\n",
       "    <tr>\n",
       "      <th>0</th>\n",
       "      <td>Martial Arts Boy (CMF)</td>\n",
       "      <td>White</td>\n",
       "    </tr>\n",
       "    <tr>\n",
       "      <th>1</th>\n",
       "      <td>2-1B Medical Droid, Pearl Dark Gray</td>\n",
       "      <td>Dark Bluish Gray</td>\n",
       "    </tr>\n",
       "    <tr>\n",
       "      <th>2</th>\n",
       "      <td>2-1B Medical Droid, Sand Blue Torso, One Arms with Clips at 90°</td>\n",
       "      <td>Light Bluish Gray</td>\n",
       "    </tr>\n",
       "    <tr>\n",
       "      <th>3</th>\n",
       "      <td>2-1B Medical Droid, Tan Torso</td>\n",
       "      <td>Dark Bluish Gray</td>\n",
       "    </tr>\n",
       "    <tr>\n",
       "      <th>4</th>\n",
       "      <td>4-LOM</td>\n",
       "      <td>Pearl Dark Gray</td>\n",
       "    </tr>\n",
       "    <tr>\n",
       "      <th>...</th>\n",
       "      <td>...</td>\n",
       "      <td>...</td>\n",
       "    </tr>\n",
       "    <tr>\n",
       "      <th>6597</th>\n",
       "      <td>Zookeeper</td>\n",
       "      <td>Tan</td>\n",
       "    </tr>\n",
       "    <tr>\n",
       "      <th>6598</th>\n",
       "      <td>Zorii Bliss</td>\n",
       "      <td>Dark Red</td>\n",
       "    </tr>\n",
       "    <tr>\n",
       "      <th>6599</th>\n",
       "      <td>Zuckuss</td>\n",
       "      <td>Dark Brown</td>\n",
       "    </tr>\n",
       "    <tr>\n",
       "      <th>6600</th>\n",
       "      <td>Zugu</td>\n",
       "      <td>Yellow</td>\n",
       "    </tr>\n",
       "    <tr>\n",
       "      <th>6601</th>\n",
       "      <td>Zurg</td>\n",
       "      <td>Dark Purple</td>\n",
       "    </tr>\n",
       "  </tbody>\n",
       "</table>\n",
       "<p>6602 rows × 2 columns</p>\n",
       "</div>"
      ],
      "text/plain": [
       "                                                              minifig  \\\n",
       "0      Martial Arts Boy (CMF)                                           \n",
       "1     2-1B Medical Droid, Pearl Dark Gray                               \n",
       "2     2-1B Medical Droid, Sand Blue Torso, One Arms with Clips at 90°   \n",
       "3     2-1B Medical Droid, Tan Torso                                     \n",
       "4     4-LOM                                                             \n",
       "...     ...                                                             \n",
       "6597  Zookeeper                                                         \n",
       "6598  Zorii Bliss                                                       \n",
       "6599  Zuckuss                                                           \n",
       "6600  Zugu                                                              \n",
       "6601  Zurg                                                              \n",
       "\n",
       "       dominating_color  \n",
       "0     White              \n",
       "1     Dark Bluish Gray   \n",
       "2     Light Bluish Gray  \n",
       "3     Dark Bluish Gray   \n",
       "4     Pearl Dark Gray    \n",
       "...               ...    \n",
       "6597  Tan                \n",
       "6598  Dark Red           \n",
       "6599  Dark Brown         \n",
       "6600  Yellow             \n",
       "6601  Dark Purple        \n",
       "\n",
       "[6602 rows x 2 columns]"
      ]
     },
     "execution_count": 107,
     "metadata": {},
     "output_type": "execute_result"
    }
   ],
   "source": [
    "# I would like to find the dominating color of minifgs\n",
    "# dominating color describes as the most repeating color of minifigs' parts as long as they have more than 1 color and \n",
    "# there is no two same dominating color.\n",
    "# Description: 1- Defining a CTE with basic info needed. 2- Find the dominating colors by a self join and MAX occurance\n",
    "# 3- Save the table as a Temp. 4- Exclude the result of minifigs with two or more dominating colors.\n",
    "query_q3 = \"\"\"\n",
    "\n",
    "BEGIN \n",
    "CREATE TEMP TABLE temp_q3 AS\n",
    "WITH base_table AS (\n",
    "    SELECT m.name minifig, c.name color, COUNT(c.name) freq\n",
    "    FROM `clark-643191304.milad_db.minifigs` m\n",
    "    JOIN `clark-643191304.milad_db.inventories` i ON  m.fig_num = i.set_num AND (i.version = 1)\n",
    "    JOIN `clark-643191304.milad_db.inventory_parts` ip ON i.id = ip.inventory_id\n",
    "    JOIN `clark-643191304.milad_db.colors` c ON ip.color_id = c.id\n",
    "    GROUP BY m.name, c.name\n",
    ")\n",
    "SELECT b1.minifig, b1.color dominating_color\n",
    "FROM base_table b1, (SELECT minifig, MAX(freq) mx_freq FROM base_table GROUP BY minifig HAVING COUNT(minifig)>1) b2\n",
    "WHERE b1.minifig = b2.minifig AND b1.freq = b2.mx_freq\n",
    "ORDER BY b1.minifig;\n",
    "END;\n",
    "\n",
    "CREATE TABLE `clark-643191304.milad_db.query_q3` AS\n",
    "SELECT * \n",
    "FROM `clark-643191304._scriptb42ca1a7ece4d15f784b3a14ceeb8db52aa5807d.temp_q3`\n",
    "WHERE minifig NOT IN(\n",
    "    SELECT minifig \n",
    "    FROM `clark-643191304._scriptb42ca1a7ece4d15f784b3a14ceeb8db52aa5807d.temp_q3`\n",
    "    GROUP BY minifig\n",
    "    HAVING COUNT(minifig) > 1\n",
    ");\n",
    "\n",
    "\"\"\"\n",
    "dfresult3 = pd.read_gbq(query_q3, project_id='clark-643191304', dialect='standard')\n",
    "dfresult3"
   ]
  },
  {
   "cell_type": "code",
   "execution_count": 114,
   "metadata": {},
   "outputs": [
    {
     "data": {
      "image/png": "[encoded data removed]",
      "text/plain": [
       "<Figure size 864x288 with 1 Axes>"
      ]
     },
     "metadata": {
      "needs_background": "light"
     },
     "output_type": "display_data"
    }
   ],
   "source": [
    "# Most dominating colors (>200) of Lego Sets from the point of view of their parts.\n",
    "\n",
    "dfresult3['dominating_color'].value_counts().loc[lambda x : x>200].plot(kind='bar', figsize=(12,4), xlim=(0,10));"
   ]
  },
  {
   "cell_type": "markdown",
   "metadata": {},
   "source": [
    "<a id='2'></a>\n",
    "### <font color=blue><center>2: ETL Design</center> ###\n",
    "I designed this Jupyter notebook to bear as much automated characteristic of an standard ETL as possible. But, as broader description and a review, this is how it works for me:<br> \n",
    "<br>\n",
    "**1**- Extracting and gathering data from different sources depending on the project, for example from RDS, Azure, GCP, MySQL, PostgreSQL, MariaDB, Oracle, MongoDB(NoSQL-JSON like), T-SQL, SQLite and etc. And, of course, it can be queried with a handful range of dialects. This stage is called Extract (E). On this stage, we assume that data management, governance, modeling, quality assure and etc. has been performed correctly.<br>\n",
    "<br>\n",
    "**2**- The second stage is Transform (T). In this stage, we are supposed to validate the date which consists of profiling, cleansing, exploratory analysis. Many tools provide auto profiling for data analysts for example, SAP, Qlik, and etc. Cleaning also consists of finding anomalies in data, dealing with typos, outliers, duplicates, null values, and etc. And, finally the purpose of exploratory analysis is to find some business insights. Qlik and Power BI both provides business insights as well.<br>\n",
    "<br>\n",
    "**3**- The next stage is loading (L). Big data is supposed to be loaded and subsequently passed data warehousing in data warehouses such as Snowflake, BigQuery and Redshift. In this stage, we also need to write and save queries.<br>\n",
    "<br>\n",
    "**4**- Then, we need to automate this procedure, it can be done like what I did in Jupyter using Windows Task Scheduler, or task scheduler of BigQuery so that every time we will have the whole procedure done a relatively short time.<br>\n",
    "<br>\n",
    "**5**- Finally, we can again load data, or even pass ETL process based on projects, into visualization tools such as Power Bi, Tableau, Qlik Sense, Data Studio and etc. That can be easily done by using connectors. For example, loading from Snowflake to Power Bi, and then simply every time we can just refresh the data and have the new dashboarding. <br> \n",
    "<br>\n",
    "Also, it's worthwhile to again point out and recap what I did in this project:<br> \n",
    "AWS RDS (E) **=>>** local hard (it could be S3, GCP, or whatever shared network/ cloud platform) **=>>** Cleaning in Jupyter via Python - fully automated (T) **=>>** loading to BigQuery - saving queries for the future use, data warehousing, answering 3 questions, saving tables automatically  **=>>** Next potential step would be visualization by loading data from BigQuery and refresh it, which I did not have time otherwise I would've given you a glimpse of that as well.\n",
    "\n"
   ]
  },
  {
   "attachments": {},
   "cell_type": "markdown",
   "metadata": {},
   "source": [
    "<a id='3'></a>\n",
    "### <font color=blue><center>3: Question3</center> ###\n",
    "\n",
    "**-What is database entity?**<br> Any thing like object, item, workflow and etc. which should be captured and stored is entity. The good example of entity management is pgAdmin and Azure Data Studio.\n",
    "<br>\n",
    "<br>\n",
    "**-Three entities and their properties for Grover:**<br> Your business model is rent e-commerce and subscription. So, I'd say Products, Customers, Orders, and Subscription:<br>   \n",
    "***Products' Properties***: id, category, name, price, description, create_date, thumbnail, delivery, minimum_rental_period.<br>\n",
    "***Customers' Properties***: id, email, pass, name, country, platform, billing address, shipping address<br>\n",
    "***Orders' Properties***: order_id, order_dt, fullfilled_dt, sales_channel, total_orders, total_shipping, delivery_time<br>\n",
    "***Subscriptions' Properties***: customer_id, start/end_dt, plan, is_active_flag, subscription_fee<br>\n",
    "<br>\n",
    "**-Relevant KPIs, why important as well as formula:**<br>\n",
    "By combining and analysing the above tables plus customer service table, marketing campaigns result, Google Analytics output, and tracking events, we would come up with the following KPIs that Grover should monitor:<br>\n",
    "<br>\n",
    "1- ***Financial Performance***: Total sales, revenues, profit, Average Order Value (AOV) (sum of value/total orders) and margin value.<br>\n",
    "2- ***Subscription***: Monthly/Annually Recurring Revenue (MRR) (total monthly/annually revenue from active subscribers), Active Subscriber Counts ASC<br>\n",
    "3- ***Web Analytics***: session duration (average sessions), bounce rate (users who did not interact with website - i.e session duration less than 30s without any clicks/total), returning user, items reviewed, popular landing or exiting pages, conversion rate, funnel analysis, sessions per user, pageviews per sessions, clickouts per sessions, Click Through Rate (CTR), goals completion, onsite search queries<br>\n",
    "4- ***Procurement***: compliance rate (number of any differences compared to what agreed/total), supplier defect rate, supplier lead time, vendor availability, number of reviews, score rate, price volatility (standard deviation of price). <br>\n",
    "5- ***Logistics***: times (process, fulfilment, shipping, delivery, cash-to-cash cycle), order accuracy or perfect order (total orders without any incidents/total), costs (warehousing, packing, transportation, warranty), number of shipments, inventory (accuracy and turnover.) <br>\n",
    "6- ***Customer service***: CSAT, NPS, CES, review content analysis via NLP, delivery-related KPIs such as returning-product rate and on-time delivery, complaint analysis, first response time vs average resolution time. <br>\n",
    "7- ***Customer Retention***: (retention rate, churn rate, acquisition rate, existing customers), cohort analysis, repeat purchase ratio and loyal customer rate, product return rate, shopping card abandonment rate. <br>\n",
    "8- ***Marketing***: users from different source of traffic (AdWords, email, social, organic), cost per impression/acquisition, marketing ROI (usually CLV/cost of marketing), ROAS, CLV (one of the most vital KPIs - all the values customers have contributed during their lifespan OR prediction of that with ML), conversion rate (second most important one - number of checkout/visits), Customer Acquisition Cost (CAC). <br>\n",
    "\n",
    "    \n",
    "    \n",
    "    \n",
    "\n",
    "\n",
    "    \n"
   ]
  }
 ],
 "metadata": {
  "kernelspec": {
   "display_name": "Python 3",
   "language": "python",
   "name": "python3"
  },
  "language_info": {
   "codemirror_mode": {
    "name": "ipython",
    "version": 3
   },
   "file_extension": ".py",
   "mimetype": "text/x-python",
   "name": "python",
   "nbconvert_exporter": "python",
   "pygments_lexer": "ipython3",
   "version": "3.8.3"
  }
 },
 "nbformat": 4,
 "nbformat_minor": 4
}
